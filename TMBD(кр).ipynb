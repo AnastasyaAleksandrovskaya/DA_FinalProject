{
 "cells": [
  {
   "cell_type": "code",
   "execution_count": 1,
   "metadata": {
    "_cell_guid": "b1076dfc-b9ad-4769-8c92-a6c4dae69d19",
    "_uuid": "8f2839f25d086af736a60e9eeb907d3b93b6e0e5"
   },
   "outputs": [],
   "source": [
    "import pandas as pd\n",
    "pd.set_option('display.max_columns', 100)\n",
    "pd.set_option('display.max_rows', 100)\n",
    "import numpy as np\n",
    "import os\n",
    "import warnings\n",
    "import matplotlib.pyplot as plt\n",
    "import seaborn as sns\n",
    "import ast\n",
    "import re\n",
    "import yaml\n",
    "import ast\n",
    "from tqdm import tqdm\n",
    "from datetime import datetime\n",
    "from scipy import stats\n",
    "from scipy.stats import norm\n",
    "from sklearn.preprocessing import OneHotEncoder\n",
    "from sklearn.preprocessing import StandardScaler\n",
    "import json"
   ]
  },
  {
   "cell_type": "code",
   "execution_count": 2,
   "metadata": {
    "_cell_guid": "79c7e3d0-c299-4dcb-8224-4455121ee9b0",
    "_kg_hide-input": true,
    "_uuid": "d629ff2d2480ee46fbb7e2d37f6b5fab8052498a"
   },
   "outputs": [],
   "source": [
    "train = pd.read_csv(\"train.csv\")\n",
    "test = pd.read_csv(\"test.csv\")"
   ]
  },
  {
   "cell_type": "code",
   "execution_count": 3,
   "metadata": {
    "_uuid": "c93e0a324d8738afb706f81c4c2a5152ed75332d"
   },
   "outputs": [
    {
     "data": {
      "text/html": [
       "<div>\n",
       "<style scoped>\n",
       "    .dataframe tbody tr th:only-of-type {\n",
       "        vertical-align: middle;\n",
       "    }\n",
       "\n",
       "    .dataframe tbody tr th {\n",
       "        vertical-align: top;\n",
       "    }\n",
       "\n",
       "    .dataframe thead th {\n",
       "        text-align: right;\n",
       "    }\n",
       "</style>\n",
       "<table border=\"1\" class=\"dataframe\">\n",
       "  <thead>\n",
       "    <tr style=\"text-align: right;\">\n",
       "      <th></th>\n",
       "      <th>id</th>\n",
       "      <th>belongs_to_collection</th>\n",
       "      <th>budget</th>\n",
       "      <th>genres</th>\n",
       "      <th>homepage</th>\n",
       "      <th>imdb_id</th>\n",
       "      <th>original_language</th>\n",
       "      <th>original_title</th>\n",
       "      <th>overview</th>\n",
       "      <th>popularity</th>\n",
       "      <th>poster_path</th>\n",
       "      <th>production_companies</th>\n",
       "      <th>production_countries</th>\n",
       "      <th>release_date</th>\n",
       "      <th>runtime</th>\n",
       "      <th>spoken_languages</th>\n",
       "      <th>status</th>\n",
       "      <th>tagline</th>\n",
       "      <th>title</th>\n",
       "      <th>Keywords</th>\n",
       "      <th>cast</th>\n",
       "      <th>crew</th>\n",
       "      <th>revenue</th>\n",
       "    </tr>\n",
       "  </thead>\n",
       "  <tbody>\n",
       "    <tr>\n",
       "      <th>0</th>\n",
       "      <td>1</td>\n",
       "      <td>[{'id': 313576, 'name': 'Hot Tub Time Machine ...</td>\n",
       "      <td>14000000</td>\n",
       "      <td>[{'id': 35, 'name': 'Comedy'}]</td>\n",
       "      <td>NaN</td>\n",
       "      <td>tt2637294</td>\n",
       "      <td>en</td>\n",
       "      <td>Hot Tub Time Machine 2</td>\n",
       "      <td>When Lou, who has become the \"father of the In...</td>\n",
       "      <td>6.575393</td>\n",
       "      <td>/tQtWuwvMf0hCc2QR2tkolwl7c3c.jpg</td>\n",
       "      <td>[{'name': 'Paramount Pictures', 'id': 4}, {'na...</td>\n",
       "      <td>[{'iso_3166_1': 'US', 'name': 'United States o...</td>\n",
       "      <td>2/20/15</td>\n",
       "      <td>93.0</td>\n",
       "      <td>[{'iso_639_1': 'en', 'name': 'English'}]</td>\n",
       "      <td>Released</td>\n",
       "      <td>The Laws of Space and Time are About to be Vio...</td>\n",
       "      <td>Hot Tub Time Machine 2</td>\n",
       "      <td>[{'id': 4379, 'name': 'time travel'}, {'id': 9...</td>\n",
       "      <td>[{'cast_id': 4, 'character': 'Lou', 'credit_id...</td>\n",
       "      <td>[{'credit_id': '59ac067c92514107af02c8c8', 'de...</td>\n",
       "      <td>12314651</td>\n",
       "    </tr>\n",
       "    <tr>\n",
       "      <th>1</th>\n",
       "      <td>2</td>\n",
       "      <td>[{'id': 107674, 'name': 'The Princess Diaries ...</td>\n",
       "      <td>40000000</td>\n",
       "      <td>[{'id': 35, 'name': 'Comedy'}, {'id': 18, 'nam...</td>\n",
       "      <td>NaN</td>\n",
       "      <td>tt0368933</td>\n",
       "      <td>en</td>\n",
       "      <td>The Princess Diaries 2: Royal Engagement</td>\n",
       "      <td>Mia Thermopolis is now a college graduate and ...</td>\n",
       "      <td>8.248895</td>\n",
       "      <td>/w9Z7A0GHEhIp7etpj0vyKOeU1Wx.jpg</td>\n",
       "      <td>[{'name': 'Walt Disney Pictures', 'id': 2}]</td>\n",
       "      <td>[{'iso_3166_1': 'US', 'name': 'United States o...</td>\n",
       "      <td>8/6/04</td>\n",
       "      <td>113.0</td>\n",
       "      <td>[{'iso_639_1': 'en', 'name': 'English'}]</td>\n",
       "      <td>Released</td>\n",
       "      <td>It can take a lifetime to find true love; she'...</td>\n",
       "      <td>The Princess Diaries 2: Royal Engagement</td>\n",
       "      <td>[{'id': 2505, 'name': 'coronation'}, {'id': 42...</td>\n",
       "      <td>[{'cast_id': 1, 'character': 'Mia Thermopolis'...</td>\n",
       "      <td>[{'credit_id': '52fe43fe9251416c7502563d', 'de...</td>\n",
       "      <td>95149435</td>\n",
       "    </tr>\n",
       "    <tr>\n",
       "      <th>2</th>\n",
       "      <td>3</td>\n",
       "      <td>NaN</td>\n",
       "      <td>3300000</td>\n",
       "      <td>[{'id': 18, 'name': 'Drama'}]</td>\n",
       "      <td>http://sonyclassics.com/whiplash/</td>\n",
       "      <td>tt2582802</td>\n",
       "      <td>en</td>\n",
       "      <td>Whiplash</td>\n",
       "      <td>Under the direction of a ruthless instructor, ...</td>\n",
       "      <td>64.299990</td>\n",
       "      <td>/lIv1QinFqz4dlp5U4lQ6HaiskOZ.jpg</td>\n",
       "      <td>[{'name': 'Bold Films', 'id': 2266}, {'name': ...</td>\n",
       "      <td>[{'iso_3166_1': 'US', 'name': 'United States o...</td>\n",
       "      <td>10/10/14</td>\n",
       "      <td>105.0</td>\n",
       "      <td>[{'iso_639_1': 'en', 'name': 'English'}]</td>\n",
       "      <td>Released</td>\n",
       "      <td>The road to greatness can take you to the edge.</td>\n",
       "      <td>Whiplash</td>\n",
       "      <td>[{'id': 1416, 'name': 'jazz'}, {'id': 1523, 'n...</td>\n",
       "      <td>[{'cast_id': 5, 'character': 'Andrew Neimann',...</td>\n",
       "      <td>[{'credit_id': '54d5356ec3a3683ba0000039', 'de...</td>\n",
       "      <td>13092000</td>\n",
       "    </tr>\n",
       "    <tr>\n",
       "      <th>3</th>\n",
       "      <td>4</td>\n",
       "      <td>NaN</td>\n",
       "      <td>1200000</td>\n",
       "      <td>[{'id': 53, 'name': 'Thriller'}, {'id': 18, 'n...</td>\n",
       "      <td>http://kahaanithefilm.com/</td>\n",
       "      <td>tt1821480</td>\n",
       "      <td>hi</td>\n",
       "      <td>Kahaani</td>\n",
       "      <td>Vidya Bagchi (Vidya Balan) arrives in Kolkata ...</td>\n",
       "      <td>3.174936</td>\n",
       "      <td>/aTXRaPrWSinhcmCrcfJK17urp3F.jpg</td>\n",
       "      <td>NaN</td>\n",
       "      <td>[{'iso_3166_1': 'IN', 'name': 'India'}]</td>\n",
       "      <td>3/9/12</td>\n",
       "      <td>122.0</td>\n",
       "      <td>[{'iso_639_1': 'en', 'name': 'English'}, {'iso...</td>\n",
       "      <td>Released</td>\n",
       "      <td>NaN</td>\n",
       "      <td>Kahaani</td>\n",
       "      <td>[{'id': 10092, 'name': 'mystery'}, {'id': 1054...</td>\n",
       "      <td>[{'cast_id': 1, 'character': 'Vidya Bagchi', '...</td>\n",
       "      <td>[{'credit_id': '52fe48779251416c9108d6eb', 'de...</td>\n",
       "      <td>16000000</td>\n",
       "    </tr>\n",
       "    <tr>\n",
       "      <th>4</th>\n",
       "      <td>5</td>\n",
       "      <td>NaN</td>\n",
       "      <td>0</td>\n",
       "      <td>[{'id': 28, 'name': 'Action'}, {'id': 53, 'nam...</td>\n",
       "      <td>NaN</td>\n",
       "      <td>tt1380152</td>\n",
       "      <td>ko</td>\n",
       "      <td>마린보이</td>\n",
       "      <td>Marine Boy is the story of a former national s...</td>\n",
       "      <td>1.148070</td>\n",
       "      <td>/m22s7zvkVFDU9ir56PiiqIEWFdT.jpg</td>\n",
       "      <td>NaN</td>\n",
       "      <td>[{'iso_3166_1': 'KR', 'name': 'South Korea'}]</td>\n",
       "      <td>2/5/09</td>\n",
       "      <td>118.0</td>\n",
       "      <td>[{'iso_639_1': 'ko', 'name': '한국어/조선말'}]</td>\n",
       "      <td>Released</td>\n",
       "      <td>NaN</td>\n",
       "      <td>Marine Boy</td>\n",
       "      <td>NaN</td>\n",
       "      <td>[{'cast_id': 3, 'character': 'Chun-soo', 'cred...</td>\n",
       "      <td>[{'credit_id': '52fe464b9251416c75073b43', 'de...</td>\n",
       "      <td>3923970</td>\n",
       "    </tr>\n",
       "  </tbody>\n",
       "</table>\n",
       "</div>"
      ],
      "text/plain": [
       "   id                              belongs_to_collection    budget  \\\n",
       "0   1  [{'id': 313576, 'name': 'Hot Tub Time Machine ...  14000000   \n",
       "1   2  [{'id': 107674, 'name': 'The Princess Diaries ...  40000000   \n",
       "2   3                                                NaN   3300000   \n",
       "3   4                                                NaN   1200000   \n",
       "4   5                                                NaN         0   \n",
       "\n",
       "                                              genres  \\\n",
       "0                     [{'id': 35, 'name': 'Comedy'}]   \n",
       "1  [{'id': 35, 'name': 'Comedy'}, {'id': 18, 'nam...   \n",
       "2                      [{'id': 18, 'name': 'Drama'}]   \n",
       "3  [{'id': 53, 'name': 'Thriller'}, {'id': 18, 'n...   \n",
       "4  [{'id': 28, 'name': 'Action'}, {'id': 53, 'nam...   \n",
       "\n",
       "                            homepage    imdb_id original_language  \\\n",
       "0                                NaN  tt2637294                en   \n",
       "1                                NaN  tt0368933                en   \n",
       "2  http://sonyclassics.com/whiplash/  tt2582802                en   \n",
       "3         http://kahaanithefilm.com/  tt1821480                hi   \n",
       "4                                NaN  tt1380152                ko   \n",
       "\n",
       "                             original_title  \\\n",
       "0                    Hot Tub Time Machine 2   \n",
       "1  The Princess Diaries 2: Royal Engagement   \n",
       "2                                  Whiplash   \n",
       "3                                   Kahaani   \n",
       "4                                      마린보이   \n",
       "\n",
       "                                            overview  popularity  \\\n",
       "0  When Lou, who has become the \"father of the In...    6.575393   \n",
       "1  Mia Thermopolis is now a college graduate and ...    8.248895   \n",
       "2  Under the direction of a ruthless instructor, ...   64.299990   \n",
       "3  Vidya Bagchi (Vidya Balan) arrives in Kolkata ...    3.174936   \n",
       "4  Marine Boy is the story of a former national s...    1.148070   \n",
       "\n",
       "                        poster_path  \\\n",
       "0  /tQtWuwvMf0hCc2QR2tkolwl7c3c.jpg   \n",
       "1  /w9Z7A0GHEhIp7etpj0vyKOeU1Wx.jpg   \n",
       "2  /lIv1QinFqz4dlp5U4lQ6HaiskOZ.jpg   \n",
       "3  /aTXRaPrWSinhcmCrcfJK17urp3F.jpg   \n",
       "4  /m22s7zvkVFDU9ir56PiiqIEWFdT.jpg   \n",
       "\n",
       "                                production_companies  \\\n",
       "0  [{'name': 'Paramount Pictures', 'id': 4}, {'na...   \n",
       "1        [{'name': 'Walt Disney Pictures', 'id': 2}]   \n",
       "2  [{'name': 'Bold Films', 'id': 2266}, {'name': ...   \n",
       "3                                                NaN   \n",
       "4                                                NaN   \n",
       "\n",
       "                                production_countries release_date  runtime  \\\n",
       "0  [{'iso_3166_1': 'US', 'name': 'United States o...      2/20/15     93.0   \n",
       "1  [{'iso_3166_1': 'US', 'name': 'United States o...       8/6/04    113.0   \n",
       "2  [{'iso_3166_1': 'US', 'name': 'United States o...     10/10/14    105.0   \n",
       "3            [{'iso_3166_1': 'IN', 'name': 'India'}]       3/9/12    122.0   \n",
       "4      [{'iso_3166_1': 'KR', 'name': 'South Korea'}]       2/5/09    118.0   \n",
       "\n",
       "                                    spoken_languages    status  \\\n",
       "0           [{'iso_639_1': 'en', 'name': 'English'}]  Released   \n",
       "1           [{'iso_639_1': 'en', 'name': 'English'}]  Released   \n",
       "2           [{'iso_639_1': 'en', 'name': 'English'}]  Released   \n",
       "3  [{'iso_639_1': 'en', 'name': 'English'}, {'iso...  Released   \n",
       "4           [{'iso_639_1': 'ko', 'name': '한국어/조선말'}]  Released   \n",
       "\n",
       "                                             tagline  \\\n",
       "0  The Laws of Space and Time are About to be Vio...   \n",
       "1  It can take a lifetime to find true love; she'...   \n",
       "2    The road to greatness can take you to the edge.   \n",
       "3                                                NaN   \n",
       "4                                                NaN   \n",
       "\n",
       "                                      title  \\\n",
       "0                    Hot Tub Time Machine 2   \n",
       "1  The Princess Diaries 2: Royal Engagement   \n",
       "2                                  Whiplash   \n",
       "3                                   Kahaani   \n",
       "4                                Marine Boy   \n",
       "\n",
       "                                            Keywords  \\\n",
       "0  [{'id': 4379, 'name': 'time travel'}, {'id': 9...   \n",
       "1  [{'id': 2505, 'name': 'coronation'}, {'id': 42...   \n",
       "2  [{'id': 1416, 'name': 'jazz'}, {'id': 1523, 'n...   \n",
       "3  [{'id': 10092, 'name': 'mystery'}, {'id': 1054...   \n",
       "4                                                NaN   \n",
       "\n",
       "                                                cast  \\\n",
       "0  [{'cast_id': 4, 'character': 'Lou', 'credit_id...   \n",
       "1  [{'cast_id': 1, 'character': 'Mia Thermopolis'...   \n",
       "2  [{'cast_id': 5, 'character': 'Andrew Neimann',...   \n",
       "3  [{'cast_id': 1, 'character': 'Vidya Bagchi', '...   \n",
       "4  [{'cast_id': 3, 'character': 'Chun-soo', 'cred...   \n",
       "\n",
       "                                                crew   revenue  \n",
       "0  [{'credit_id': '59ac067c92514107af02c8c8', 'de...  12314651  \n",
       "1  [{'credit_id': '52fe43fe9251416c7502563d', 'de...  95149435  \n",
       "2  [{'credit_id': '54d5356ec3a3683ba0000039', 'de...  13092000  \n",
       "3  [{'credit_id': '52fe48779251416c9108d6eb', 'de...  16000000  \n",
       "4  [{'credit_id': '52fe464b9251416c75073b43', 'de...   3923970  "
      ]
     },
     "execution_count": 3,
     "metadata": {},
     "output_type": "execute_result"
    }
   ],
   "source": [
    "train.head(5)"
   ]
  },
  {
   "cell_type": "code",
   "execution_count": 4,
   "metadata": {
    "_uuid": "b6fff8a829326c6cda50519089971f3db4cd44ce"
   },
   "outputs": [
    {
     "data": {
      "text/plain": [
       "'Come and Get Some!'"
      ]
     },
     "execution_count": 4,
     "metadata": {},
     "output_type": "execute_result"
    }
   ],
   "source": [
    "train.iloc[767][\"tagline\"]"
   ]
  },
  {
   "cell_type": "code",
   "execution_count": 5,
   "metadata": {
    "_uuid": "6d23abcc36e189c591065a1637acc5ae9811def6"
   },
   "outputs": [
    {
     "data": {
      "text/plain": [
       "poster_path                 1\n",
       "runtime                     2\n",
       "genres                      7\n",
       "overview                    8\n",
       "cast                       13\n",
       "crew                       16\n",
       "spoken_languages           20\n",
       "production_countries       55\n",
       "production_companies      156\n",
       "Keywords                  276\n",
       "tagline                   597\n",
       "homepage                 2054\n",
       "belongs_to_collection    2396\n",
       "dtype: int64"
      ]
     },
     "execution_count": 5,
     "metadata": {},
     "output_type": "execute_result"
    }
   ],
   "source": [
    "miss = train.isnull().sum()\n",
    "miss= miss[miss > 0]\n",
    "miss.sort_values(inplace=True)\n",
    "miss"
   ]
  },
  {
   "cell_type": "code",
   "execution_count": 6,
   "metadata": {
    "_uuid": "a71fa445d29917ed0a72677bcd0b90457289a674"
   },
   "outputs": [],
   "source": [
    "# get lengths of text columns\n",
    "columns = ['original_title', 'title', 'overview', 'tagline']\n",
    "for col in columns:\n",
    "    new_col = col + '_len'\n",
    "    train[new_col] = train[col].apply(lambda x: 0 if x is np.nan else len(x))\n",
    "    test[new_col] = test[col].apply(lambda x: 0 if x is np.nan else len(x))\n",
    "\n",
    "# drop ID/URL/text columns\n",
    "columns.extend(['homepage', 'imdb_id', 'poster_path', 'belongs_to_collection'])\n",
    "\n",
    "train.drop(columns, axis=1, inplace=True)\n",
    "test.drop(columns, axis=1, inplace=True)"
   ]
  },
  {
   "cell_type": "code",
   "execution_count": 7,
   "metadata": {
    "_uuid": "d808d6be4e57c5d749acfe38692cecebdb554438"
   },
   "outputs": [],
   "source": [
    "#Alternate way to drop features using for loop\n",
    "# train = train[[i for i in train.columns if i not in [\"id\", \"belongs_to_collection\", \"overview\", \"poster_path\",\"homepage\", \"title\",\"original_title\",\"Keywords\"]]]    \n",
    "# test = test[[i for i in test.columns if i not in [\"id\", \"belongs_to_collection\", \"overview\", \"poster_path\", \"tagline\",\"homepage\", \"title\",\"original_title\",\"Keywords\"]]]    "
   ]
  },
  {
   "cell_type": "code",
   "execution_count": 8,
   "metadata": {
    "_uuid": "5b87034bc870d9c5b3dae410d96a62a08c6e1bc5"
   },
   "outputs": [
    {
     "name": "stdout",
     "output_type": "stream",
     "text": [
      "The train data has 3000 rows and 19 columns\n",
      "The test data has 4398 rows and 18 columns\n"
     ]
    }
   ],
   "source": [
    "print ('The train data has {0} rows and {1} columns'.format(train.shape[0],train.shape[1]))\n",
    "print ('The test data has {0} rows and {1} columns'.format(test.shape[0],test.shape[1]))"
   ]
  },
  {
   "cell_type": "code",
   "execution_count": 9,
   "metadata": {
    "_uuid": "567ca4ae4bd7e38a977f2a64c179acdbda8ca57e"
   },
   "outputs": [
    {
     "data": {
      "text/plain": [
       "<matplotlib.axes._subplots.AxesSubplot at 0x22a14b5e470>"
      ]
     },
     "execution_count": 9,
     "metadata": {},
     "output_type": "execute_result"
    },
    {
     "data": {
      "image/png": "[encoded data removed]",
      "text/plain": [
       "<Figure size 432x288 with 1 Axes>"
      ]
     },
     "metadata": {
      "needs_background": "light"
     },
     "output_type": "display_data"
    }
   ],
   "source": [
    "\n",
    "#Creating Distribution Plot\n",
    "sns.distplot(train[\"revenue\"])"
   ]
  },
  {
   "cell_type": "code",
   "execution_count": 10,
   "metadata": {
    "_uuid": "6a05d8e52c6237de237ae342bb11fa7f2d548016"
   },
   "outputs": [
    {
     "name": "stdout",
     "output_type": "stream",
     "text": [
      "The skewness of target is 0.005468456321668449\n"
     ]
    },
    {
     "data": {
      "text/plain": [
       "<matplotlib.axes._subplots.AxesSubplot at 0x22a14b49a58>"
      ]
     },
     "execution_count": 10,
     "metadata": {},
     "output_type": "execute_result"
    },
    {
     "data": {
      "image/png": "[encoded data removed]",
      "text/plain": [
       "<Figure size 432x288 with 1 Axes>"
      ]
     },
     "metadata": {
      "needs_background": "light"
     },
     "output_type": "display_data"
    }
   ],
   "source": [
    "#Determining Skewness\n",
    "target= np.power(train['revenue'], 0.169)\n",
    "print (\"The skewness of target is {}\".format(target.skew()))\n",
    "sns.distplot(target)\n"
   ]
  },
  {
   "cell_type": "code",
   "execution_count": 11,
   "metadata": {
    "_uuid": "4b88a3c1e01bc077642ca84dc6a2bcab33d414b1"
   },
   "outputs": [
    {
     "name": "stdout",
     "output_type": "stream",
     "text": [
      "There are 9 numeric features and 10 categorical features\n"
     ]
    }
   ],
   "source": [
    "numeric_data = train.select_dtypes(include=[np.number])\n",
    "cat_data = train.select_dtypes(exclude=[np.number])\n",
    "print(\"There are {} numeric features and {} categorical features\".format(numeric_data.shape[1], cat_data.shape[1]))"
   ]
  },
  {
   "cell_type": "code",
   "execution_count": 12,
   "metadata": {
    "_uuid": "d99e094de0259d07c5e5463ef94414027d52f44f"
   },
   "outputs": [],
   "source": [
    "train.status = train.status.fillna(\"released\")\n",
    "test.status = test.status.fillna(\"released\")"
   ]
  },
  {
   "cell_type": "code",
   "execution_count": 13,
   "metadata": {
    "_uuid": "71f30273beefe35e40319533a95113c51545cdbe"
   },
   "outputs": [
    {
     "data": {
      "text/plain": [
       "<matplotlib.axes._subplots.AxesSubplot at 0x22a14c13898>"
      ]
     },
     "execution_count": 13,
     "metadata": {},
     "output_type": "execute_result"
    },
    {
     "data": {
      "image/png": "[encoded data removed]",
      "text/plain": [
       "<Figure size 432x288 with 2 Axes>"
      ]
     },
     "metadata": {
      "needs_background": "light"
     },
     "output_type": "display_data"
    }
   ],
   "source": [
    "corr= numeric_data.corr()\n",
    "sns.heatmap(corr, annot=True, fmt='.2', center=0.0, cmap='coolwarm')"
   ]
  },
  {
   "cell_type": "code",
   "execution_count": 14,
   "metadata": {
    "_uuid": "24b412ed761a4d7e30f5ce0fd9c6765c8f438bb1"
   },
   "outputs": [
    {
     "name": "stdout",
     "output_type": "stream",
     "text": [
      "revenue               1.000000\n",
      "budget                0.752965\n",
      "popularity            0.461460\n",
      "runtime               0.216380\n",
      "original_title_len    0.117582\n",
      "title_len             0.109664\n",
      "tagline_len           0.018118\n",
      "id                    0.000610\n",
      "overview_len         -0.005188\n",
      "Name: revenue, dtype: float64 \n",
      "\n"
     ]
    }
   ],
   "source": [
    "print (corr['revenue'].sort_values(ascending=False)[:], '\\n')"
   ]
  },
  {
   "cell_type": "code",
   "execution_count": 15,
   "metadata": {
    "_uuid": "7ef89725934498a5aa7964f98c783be0b0282c33"
   },
   "outputs": [
    {
     "data": {
      "text/html": [
       "<div>\n",
       "<style scoped>\n",
       "    .dataframe tbody tr th:only-of-type {\n",
       "        vertical-align: middle;\n",
       "    }\n",
       "\n",
       "    .dataframe tbody tr th {\n",
       "        vertical-align: top;\n",
       "    }\n",
       "\n",
       "    .dataframe thead th {\n",
       "        text-align: right;\n",
       "    }\n",
       "</style>\n",
       "<table border=\"1\" class=\"dataframe\">\n",
       "  <thead>\n",
       "    <tr style=\"text-align: right;\">\n",
       "      <th></th>\n",
       "      <th>genres</th>\n",
       "      <th>original_language</th>\n",
       "      <th>production_companies</th>\n",
       "      <th>production_countries</th>\n",
       "      <th>release_date</th>\n",
       "      <th>spoken_languages</th>\n",
       "      <th>status</th>\n",
       "      <th>Keywords</th>\n",
       "      <th>cast</th>\n",
       "      <th>crew</th>\n",
       "    </tr>\n",
       "  </thead>\n",
       "  <tbody>\n",
       "    <tr>\n",
       "      <th>count</th>\n",
       "      <td>2993</td>\n",
       "      <td>3000</td>\n",
       "      <td>2844</td>\n",
       "      <td>2945</td>\n",
       "      <td>3000</td>\n",
       "      <td>2980</td>\n",
       "      <td>3000</td>\n",
       "      <td>2724</td>\n",
       "      <td>2987</td>\n",
       "      <td>2984</td>\n",
       "    </tr>\n",
       "    <tr>\n",
       "      <th>unique</th>\n",
       "      <td>872</td>\n",
       "      <td>36</td>\n",
       "      <td>2383</td>\n",
       "      <td>321</td>\n",
       "      <td>2398</td>\n",
       "      <td>401</td>\n",
       "      <td>2</td>\n",
       "      <td>2648</td>\n",
       "      <td>2975</td>\n",
       "      <td>2984</td>\n",
       "    </tr>\n",
       "    <tr>\n",
       "      <th>top</th>\n",
       "      <td>[{'id': 18, 'name': 'Drama'}]</td>\n",
       "      <td>en</td>\n",
       "      <td>[{'name': 'Paramount Pictures', 'id': 4}]</td>\n",
       "      <td>[{'iso_3166_1': 'US', 'name': 'United States o...</td>\n",
       "      <td>9/10/15</td>\n",
       "      <td>[{'iso_639_1': 'en', 'name': 'English'}]</td>\n",
       "      <td>Released</td>\n",
       "      <td>[{'id': 10183, 'name': 'independent film'}]</td>\n",
       "      <td>[]</td>\n",
       "      <td>[{'credit_id': '586292d992514115ca042885', 'de...</td>\n",
       "    </tr>\n",
       "    <tr>\n",
       "      <th>freq</th>\n",
       "      <td>266</td>\n",
       "      <td>2575</td>\n",
       "      <td>51</td>\n",
       "      <td>1752</td>\n",
       "      <td>5</td>\n",
       "      <td>1817</td>\n",
       "      <td>2996</td>\n",
       "      <td>27</td>\n",
       "      <td>13</td>\n",
       "      <td>1</td>\n",
       "    </tr>\n",
       "  </tbody>\n",
       "</table>\n",
       "</div>"
      ],
      "text/plain": [
       "                               genres original_language  \\\n",
       "count                            2993              3000   \n",
       "unique                            872                36   \n",
       "top     [{'id': 18, 'name': 'Drama'}]                en   \n",
       "freq                              266              2575   \n",
       "\n",
       "                             production_companies  \\\n",
       "count                                        2844   \n",
       "unique                                       2383   \n",
       "top     [{'name': 'Paramount Pictures', 'id': 4}]   \n",
       "freq                                           51   \n",
       "\n",
       "                                     production_countries release_date  \\\n",
       "count                                                2945         3000   \n",
       "unique                                                321         2398   \n",
       "top     [{'iso_3166_1': 'US', 'name': 'United States o...      9/10/15   \n",
       "freq                                                 1752            5   \n",
       "\n",
       "                                spoken_languages    status  \\\n",
       "count                                       2980      3000   \n",
       "unique                                       401         2   \n",
       "top     [{'iso_639_1': 'en', 'name': 'English'}]  Released   \n",
       "freq                                        1817      2996   \n",
       "\n",
       "                                           Keywords  cast  \\\n",
       "count                                          2724  2987   \n",
       "unique                                         2648  2975   \n",
       "top     [{'id': 10183, 'name': 'independent film'}]    []   \n",
       "freq                                             27    13   \n",
       "\n",
       "                                                     crew  \n",
       "count                                                2984  \n",
       "unique                                               2984  \n",
       "top     [{'credit_id': '586292d992514115ca042885', 'de...  \n",
       "freq                                                    1  "
      ]
     },
     "execution_count": 15,
     "metadata": {},
     "output_type": "execute_result"
    }
   ],
   "source": [
    "cat_data.describe()"
   ]
  },
  {
   "cell_type": "code",
   "execution_count": 16,
   "metadata": {
    "_uuid": "7fff145f225aaa02a32f594509f8970a72fdb5a6"
   },
   "outputs": [
    {
     "name": "stdout",
     "output_type": "stream",
     "text": [
      "   original_language       revenue\n",
      "7                 en  7.466591e+07\n",
      "35                zh  7.037637e+07\n",
      "32                tr  5.166341e+07\n",
      "17                ja  3.065180e+07\n",
      "2                 cn  2.977289e+07\n",
      "13                hi  2.534637e+07\n",
      "5                 de  2.053090e+07\n",
      "11                fr  1.713257e+07\n",
      "16                it  1.641513e+07\n",
      "24                pl  1.501083e+07\n",
      "30                ta  1.470625e+07\n",
      "18                ko  1.377670e+07\n",
      "4                 da  1.175709e+07\n",
      "29                sv  1.163051e+07\n",
      "12                he  1.112585e+07\n",
      "25                pt  1.087902e+07\n",
      "8                 es  8.564790e+06\n",
      "31                te  8.320425e+06\n",
      "6                 el  8.000000e+06\n",
      "27                ru  6.929453e+06\n",
      "20                mr  4.400000e+06\n",
      "21                nb  4.159678e+06\n",
      "15                id  2.627209e+06\n",
      "22                nl  1.959667e+06\n",
      "10                fi  1.471932e+06\n",
      "0                 ar  1.347747e+06\n",
      "19                ml  1.315000e+06\n",
      "23                no  1.011068e+06\n",
      "9                 fa  7.121852e+05\n",
      "33                ur  6.451350e+05\n",
      "34                vi  6.390000e+05\n",
      "1                 bn  5.363640e+05\n",
      "26                ro  3.399610e+05\n",
      "14                hu  1.247927e+05\n",
      "3                 cs  1.739300e+04\n",
      "28                sr  1.980000e+02\n"
     ]
    }
   ],
   "source": [
    "print(train[[\"original_language\", \"revenue\"]].groupby(['original_language'], as_index=False).mean().sort_values(by='revenue', ascending=False))"
   ]
  },
  {
   "cell_type": "code",
   "execution_count": 17,
   "metadata": {
    "_uuid": "553ca320e6d0f083d136c49c7f9c135d00414fc3",
    "scrolled": true
   },
   "outputs": [
    {
     "data": {
      "text/html": [
       "<div>\n",
       "<style scoped>\n",
       "    .dataframe tbody tr th:only-of-type {\n",
       "        vertical-align: middle;\n",
       "    }\n",
       "\n",
       "    .dataframe tbody tr th {\n",
       "        vertical-align: top;\n",
       "    }\n",
       "\n",
       "    .dataframe thead th {\n",
       "        text-align: right;\n",
       "    }\n",
       "</style>\n",
       "<table border=\"1\" class=\"dataframe\">\n",
       "  <thead>\n",
       "    <tr style=\"text-align: right;\">\n",
       "      <th></th>\n",
       "      <th>revenue</th>\n",
       "    </tr>\n",
       "    <tr>\n",
       "      <th>original_language</th>\n",
       "      <th></th>\n",
       "    </tr>\n",
       "  </thead>\n",
       "  <tbody>\n",
       "    <tr>\n",
       "      <th>en</th>\n",
       "      <td>7.466591e+07</td>\n",
       "    </tr>\n",
       "    <tr>\n",
       "      <th>zh</th>\n",
       "      <td>7.037637e+07</td>\n",
       "    </tr>\n",
       "    <tr>\n",
       "      <th>tr</th>\n",
       "      <td>5.166341e+07</td>\n",
       "    </tr>\n",
       "    <tr>\n",
       "      <th>ja</th>\n",
       "      <td>3.065180e+07</td>\n",
       "    </tr>\n",
       "    <tr>\n",
       "      <th>cn</th>\n",
       "      <td>2.977289e+07</td>\n",
       "    </tr>\n",
       "    <tr>\n",
       "      <th>hi</th>\n",
       "      <td>2.534637e+07</td>\n",
       "    </tr>\n",
       "    <tr>\n",
       "      <th>de</th>\n",
       "      <td>2.053090e+07</td>\n",
       "    </tr>\n",
       "    <tr>\n",
       "      <th>fr</th>\n",
       "      <td>1.713257e+07</td>\n",
       "    </tr>\n",
       "    <tr>\n",
       "      <th>it</th>\n",
       "      <td>1.641513e+07</td>\n",
       "    </tr>\n",
       "    <tr>\n",
       "      <th>pl</th>\n",
       "      <td>1.501083e+07</td>\n",
       "    </tr>\n",
       "    <tr>\n",
       "      <th>ta</th>\n",
       "      <td>1.470625e+07</td>\n",
       "    </tr>\n",
       "    <tr>\n",
       "      <th>ko</th>\n",
       "      <td>1.377670e+07</td>\n",
       "    </tr>\n",
       "    <tr>\n",
       "      <th>da</th>\n",
       "      <td>1.175709e+07</td>\n",
       "    </tr>\n",
       "    <tr>\n",
       "      <th>sv</th>\n",
       "      <td>1.163051e+07</td>\n",
       "    </tr>\n",
       "    <tr>\n",
       "      <th>he</th>\n",
       "      <td>1.112585e+07</td>\n",
       "    </tr>\n",
       "    <tr>\n",
       "      <th>pt</th>\n",
       "      <td>1.087902e+07</td>\n",
       "    </tr>\n",
       "    <tr>\n",
       "      <th>es</th>\n",
       "      <td>8.564790e+06</td>\n",
       "    </tr>\n",
       "    <tr>\n",
       "      <th>te</th>\n",
       "      <td>8.320425e+06</td>\n",
       "    </tr>\n",
       "    <tr>\n",
       "      <th>el</th>\n",
       "      <td>8.000000e+06</td>\n",
       "    </tr>\n",
       "    <tr>\n",
       "      <th>ru</th>\n",
       "      <td>6.929453e+06</td>\n",
       "    </tr>\n",
       "    <tr>\n",
       "      <th>mr</th>\n",
       "      <td>4.400000e+06</td>\n",
       "    </tr>\n",
       "    <tr>\n",
       "      <th>nb</th>\n",
       "      <td>4.159678e+06</td>\n",
       "    </tr>\n",
       "    <tr>\n",
       "      <th>id</th>\n",
       "      <td>2.627209e+06</td>\n",
       "    </tr>\n",
       "    <tr>\n",
       "      <th>nl</th>\n",
       "      <td>1.959667e+06</td>\n",
       "    </tr>\n",
       "    <tr>\n",
       "      <th>fi</th>\n",
       "      <td>1.471932e+06</td>\n",
       "    </tr>\n",
       "    <tr>\n",
       "      <th>ar</th>\n",
       "      <td>1.347747e+06</td>\n",
       "    </tr>\n",
       "    <tr>\n",
       "      <th>ml</th>\n",
       "      <td>1.315000e+06</td>\n",
       "    </tr>\n",
       "    <tr>\n",
       "      <th>no</th>\n",
       "      <td>1.011068e+06</td>\n",
       "    </tr>\n",
       "    <tr>\n",
       "      <th>fa</th>\n",
       "      <td>7.121852e+05</td>\n",
       "    </tr>\n",
       "    <tr>\n",
       "      <th>ur</th>\n",
       "      <td>6.451350e+05</td>\n",
       "    </tr>\n",
       "    <tr>\n",
       "      <th>vi</th>\n",
       "      <td>6.390000e+05</td>\n",
       "    </tr>\n",
       "    <tr>\n",
       "      <th>bn</th>\n",
       "      <td>5.363640e+05</td>\n",
       "    </tr>\n",
       "    <tr>\n",
       "      <th>ro</th>\n",
       "      <td>3.399610e+05</td>\n",
       "    </tr>\n",
       "    <tr>\n",
       "      <th>hu</th>\n",
       "      <td>1.247927e+05</td>\n",
       "    </tr>\n",
       "    <tr>\n",
       "      <th>cs</th>\n",
       "      <td>1.739300e+04</td>\n",
       "    </tr>\n",
       "    <tr>\n",
       "      <th>sr</th>\n",
       "      <td>1.980000e+02</td>\n",
       "    </tr>\n",
       "  </tbody>\n",
       "</table>\n",
       "</div>"
      ],
      "text/plain": [
       "                        revenue\n",
       "original_language              \n",
       "en                 7.466591e+07\n",
       "zh                 7.037637e+07\n",
       "tr                 5.166341e+07\n",
       "ja                 3.065180e+07\n",
       "cn                 2.977289e+07\n",
       "hi                 2.534637e+07\n",
       "de                 2.053090e+07\n",
       "fr                 1.713257e+07\n",
       "it                 1.641513e+07\n",
       "pl                 1.501083e+07\n",
       "ta                 1.470625e+07\n",
       "ko                 1.377670e+07\n",
       "da                 1.175709e+07\n",
       "sv                 1.163051e+07\n",
       "he                 1.112585e+07\n",
       "pt                 1.087902e+07\n",
       "es                 8.564790e+06\n",
       "te                 8.320425e+06\n",
       "el                 8.000000e+06\n",
       "ru                 6.929453e+06\n",
       "mr                 4.400000e+06\n",
       "nb                 4.159678e+06\n",
       "id                 2.627209e+06\n",
       "nl                 1.959667e+06\n",
       "fi                 1.471932e+06\n",
       "ar                 1.347747e+06\n",
       "ml                 1.315000e+06\n",
       "no                 1.011068e+06\n",
       "fa                 7.121852e+05\n",
       "ur                 6.451350e+05\n",
       "vi                 6.390000e+05\n",
       "bn                 5.363640e+05\n",
       "ro                 3.399610e+05\n",
       "hu                 1.247927e+05\n",
       "cs                 1.739300e+04\n",
       "sr                 1.980000e+02"
      ]
     },
     "execution_count": 17,
     "metadata": {},
     "output_type": "execute_result"
    }
   ],
   "source": [
    "sp_pivot= train.pivot_table(index='original_language', values='revenue', aggfunc=np.mean).sort_values(by= 'revenue', ascending=False)\n",
    "sp_pivot"
   ]
  },
  {
   "cell_type": "code",
   "execution_count": 18,
   "metadata": {
    "_uuid": "a0ee366cef7b89f5eb8e85fa983b62b5c8625173"
   },
   "outputs": [
    {
     "data": {
      "text/plain": [
       "<matplotlib.axes._subplots.AxesSubplot at 0x22a14c7ceb8>"
      ]
     },
     "execution_count": 18,
     "metadata": {},
     "output_type": "execute_result"
    },
    {
     "data": {
      "image/png": "[encoded data removed]",
      "text/plain": [
       "<Figure size 432x288 with 1 Axes>"
      ]
     },
     "metadata": {
      "needs_background": "light"
     },
     "output_type": "display_data"
    }
   ],
   "source": [
    "sp_pivot.plot(kind='bar', color='red')"
   ]
  },
  {
   "cell_type": "code",
   "execution_count": 19,
   "metadata": {
    "_uuid": "7d72b161bb9c2a9ab83c131bf2db97d09620472d"
   },
   "outputs": [
    {
     "name": "stderr",
     "output_type": "stream",
     "text": [
      "C:\\Users\\asus\\Anaconda3\\lib\\site-packages\\ipykernel_launcher.py:16: SettingWithCopyWarning: \n",
      "A value is trying to be set on a copy of a slice from a DataFrame.\n",
      "Try using .loc[row_indexer,col_indexer] = value instead\n",
      "\n",
      "See the caveats in the documentation: http://pandas.pydata.org/pandas-docs/stable/indexing.html#indexing-view-versus-copy\n",
      "  app.launch_new_instance()\n",
      "C:\\Users\\asus\\Anaconda3\\lib\\site-packages\\scipy\\stats\\stats.py:2951: RuntimeWarning: invalid value encountered in double_scalars\n",
      "  ssbn += _square_of_sums(a - offset) / len(a)\n"
     ]
    },
    {
     "data": {
      "text/plain": [
       "<module 'matplotlib.pyplot' from 'C:\\\\Users\\\\asus\\\\Anaconda3\\\\lib\\\\site-packages\\\\matplotlib\\\\pyplot.py'>"
      ]
     },
     "execution_count": 19,
     "metadata": {},
     "output_type": "execute_result"
    },
    {
     "data": {
      "image/png": "[encoded data removed]",
      "text/plain": [
       "<Figure size 432x288 with 1 Axes>"
      ]
     },
     "metadata": {
      "needs_background": "light"
     },
     "output_type": "display_data"
    }
   ],
   "source": [
    "cat = [f for f in train.columns if train.dtypes[f] == 'object']\n",
    "def anova(frame):\n",
    "    anv = pd.DataFrame()\n",
    "    anv['features'] = cat\n",
    "    pvals = []\n",
    "    for c in cat:\n",
    "           samples = []\n",
    "           for cls in frame[c].unique():\n",
    "                  s = frame[frame[c] == cls]['revenue'].values\n",
    "                  samples.append(s)\n",
    "           pval = stats.f_oneway(*samples)[1]\n",
    "           pvals.append(pval)\n",
    "    anv['pval'] = pvals\n",
    "    return anv.sort_values('pval')\n",
    "\n",
    "cat_data['revenue'] = train.revenue.values\n",
    "k = anova(cat_data) \n",
    "k['disparity'] = np.log(1./k['pval'].values) \n",
    "sns.barplot(data=k, x = 'features', y='disparity') \n",
    "plt.xticks(rotation=90) \n",
    "plt "
   ]
  },
  {
   "cell_type": "code",
   "execution_count": 20,
   "metadata": {
    "_uuid": "a1d0fe3ac3ce7a044729fa2db1974f1402270eef"
   },
   "outputs": [
    {
     "data": {
      "text/plain": [
       "<seaborn.axisgrid.FacetGrid at 0x22a155db908>"
      ]
     },
     "execution_count": 20,
     "metadata": {},
     "output_type": "execute_result"
    },
    {
     "data": {
      "image/png": "[encoded data removed]",
      "text/plain": [
       "<Figure size 864x648 with 9 Axes>"
      ]
     },
     "metadata": {
      "needs_background": "light"
     },
     "output_type": "display_data"
    }
   ],
   "source": [
    "#create numeric plots\n",
    "num = [f for f in train.columns if train.dtypes[f] != 'object']\n",
    "nd = pd.melt(train, value_vars = num)\n",
    "n1 = sns.FacetGrid (nd, col='variable', col_wrap=4, sharex=False, sharey = False)\n",
    "n1 = n1.map(sns.distplot, 'value')\n",
    "n1"
   ]
  },
  {
   "cell_type": "code",
   "execution_count": 21,
   "metadata": {
    "_uuid": "a77b9c2104c0aa7d506e0698f800816fb519fe30"
   },
   "outputs": [
    {
     "data": {
      "text/plain": [
       "<seaborn.axisgrid.JointGrid at 0x22a193f55c0>"
      ]
     },
     "execution_count": 21,
     "metadata": {},
     "output_type": "execute_result"
    },
    {
     "data": {
      "image/png": "[encoded data removed]",
      "text/plain": [
       "<Figure size 432x432 with 3 Axes>"
      ]
     },
     "metadata": {
      "needs_background": "light"
     },
     "output_type": "display_data"
    }
   ],
   "source": [
    "#Creating Jointplot\n",
    "sns.jointplot(x=train['runtime'], y=train['revenue'])"
   ]
  },
  {
   "cell_type": "code",
   "execution_count": 22,
   "metadata": {
    "_uuid": "9aa944439e62f3784bfc46d9f75979df5847e66f"
   },
   "outputs": [],
   "source": [
    "d1=dict.fromkeys(set(train[\"original_language\"].values),0 )\n",
    "for i in train[\"original_language\"].values:\n",
    "    d1[i]+=1"
   ]
  },
  {
   "cell_type": "code",
   "execution_count": 23,
   "metadata": {
    "_uuid": "4341ac07265630413b5c687e765ce83b84d5f1dd"
   },
   "outputs": [],
   "source": [
    "train.loc[train.release_date.isnull(), 'release_date'] = train.release_date.mode()[0]\n",
    "test.loc[test.release_date.isnull(), 'release_date'] = test.release_date.mode()[0]"
   ]
  },
  {
   "cell_type": "code",
   "execution_count": 24,
   "metadata": {
    "_uuid": "fdb9513edbd02e68e65bc9952b3d37b4d34b11e2"
   },
   "outputs": [],
   "source": [
    "train[\"runtime\"].fillna(train[\"runtime\"].mean, inplace=True)\n",
    "test[\"runtime\"].fillna(test[\"runtime\"].mean, inplace=True)\n",
    "\n",
    "train[\"spoken_languages\"].fillna(\"en\", inplace=True)\n",
    "test[\"spoken_languages\"].fillna(\"en\", inplace=True)\n",
    "\n",
    "train = train.drop([\"Keywords\"], axis = 1)\n",
    "test = test.drop([\"Keywords\"], axis = 1)"
   ]
  },
  {
   "cell_type": "code",
   "execution_count": 25,
   "metadata": {
    "_uuid": "d1dc566bfac6dc96bb3ac443cb99cf80119c8394"
   },
   "outputs": [],
   "source": [
    "def expand_release_date(df):\n",
    "    df.release_date = pd.to_datetime(df.release_date)\n",
    "\n",
    "    df['release_year'] = df.release_date.dt.year\n",
    "    df['release_year'] = df.release_year.apply(lambda x: x-100 if x > 2020 else x)\n",
    "    \n",
    "    df['release_month'] = df.release_date.dt.month\n",
    "    df['release_day'] = df.release_date.dt.dayofweek\n",
    "    df['release_quarter'] = df.release_date.dt.quarter\n",
    "    \n",
    "    return df\n",
    "\n",
    "train = expand_release_date(train)\n",
    "test = expand_release_date(test)"
   ]
  },
  {
   "cell_type": "code",
   "execution_count": 26,
   "metadata": {
    "_uuid": "e9f875f0eda93f282e036d50d8c983c94ed74713"
   },
   "outputs": [],
   "source": [
    "train[\"genres\"].fillna(\"[{'id': 18, 'name': 'Drama'}]\", inplace=True)\n",
    "test[\"genres\"].fillna(\"[{'id': 18, 'name': 'Drama'}]\", inplace=True)\n",
    "train[\"production_countries\"].fillna(\"[{'iso_3166_1': 'US', 'name': 'United States of America'}]\"\n",
    ", inplace=True)\n",
    "test[\"production_countries\"].fillna(\"[{'iso_3166_1': 'US', 'name': 'United States of America'}]\"\n",
    ", inplace=True)\n",
    "train[\"production_companies\"].fillna(\"[{'name': 'Paramount Pictures', 'id': 4}]\"\n",
    ", inplace=True)\n",
    "test[\"production_companies\"].fillna(\"[{'name': 'Paramount Pictures', 'id': 4}]\"\n",
    ", inplace=True)"
   ]
  },
  {
   "cell_type": "code",
   "execution_count": 27,
   "metadata": {
    "_uuid": "fdb6070357d9338179aa25467cb7462209d056a1"
   },
   "outputs": [
    {
     "name": "stdout",
     "output_type": "stream",
     "text": [
      "Number of genres in films\n"
     ]
    },
    {
     "data": {
      "text/plain": [
       "29     273\n",
       "30     236\n",
       "59     192\n",
       "63     190\n",
       "93     172\n",
       "62     125\n",
       "91     121\n",
       "64     120\n",
       "60      95\n",
       "61      95\n",
       "90      89\n",
       "95      89\n",
       "94      83\n",
       "92      74\n",
       "120     56\n",
       "124     52\n",
       "123     50\n",
       "58      46\n",
       "35      44\n",
       "96      38\n",
       "103     38\n",
       "89      36\n",
       "66      32\n",
       "125     29\n",
       "88      28\n",
       "102     27\n",
       "97      27\n",
       "129     26\n",
       "121     26\n",
       "99      25\n",
       "135     22\n",
       "126     22\n",
       "65      22\n",
       "100     21\n",
       "32      19\n",
       "153     17\n",
       "101     16\n",
       "127     16\n",
       "122     15\n",
       "70      14\n",
       "134     13\n",
       "69      13\n",
       "132     11\n",
       "128     11\n",
       "154     11\n",
       "131     10\n",
       "67       9\n",
       "161      9\n",
       "157      9\n",
       "72       9\n",
       "      ... \n",
       "31       8\n",
       "40       8\n",
       "73       8\n",
       "137      8\n",
       "136      8\n",
       "156      8\n",
       "130      7\n",
       "159      6\n",
       "150      6\n",
       "106      5\n",
       "163      5\n",
       "155      5\n",
       "133      5\n",
       "98       4\n",
       "167      4\n",
       "158      4\n",
       "160      4\n",
       "165      4\n",
       "105      4\n",
       "119      3\n",
       "164      3\n",
       "166      3\n",
       "34       3\n",
       "169      3\n",
       "152      3\n",
       "196      3\n",
       "104      3\n",
       "139      2\n",
       "189      2\n",
       "187      2\n",
       "194      2\n",
       "151      2\n",
       "197      2\n",
       "190      2\n",
       "170      2\n",
       "68       2\n",
       "162      2\n",
       "199      1\n",
       "230      1\n",
       "138      1\n",
       "168      1\n",
       "186      1\n",
       "188      1\n",
       "200      1\n",
       "221      1\n",
       "183      1\n",
       "185      1\n",
       "191      1\n",
       "195      1\n",
       "231      1\n",
       "Name: genres, Length: 101, dtype: int64"
      ]
     },
     "execution_count": 27,
     "metadata": {},
     "output_type": "execute_result"
    }
   ],
   "source": [
    "print('Number of genres in films')\n",
    "train['genres'].apply(lambda x: len(x) if x != {} else 0).value_counts()"
   ]
  },
  {
   "cell_type": "code",
   "execution_count": 28,
   "metadata": {
    "_uuid": "2253bc7faf08291244e5b9456d29201e5309e493"
   },
   "outputs": [],
   "source": [
    "def conj(j):\n",
    "    return [i[\"id\"] for i in eval(j)]\n",
    "train[\"genres\"]=train[\"genres\"].apply(lambda l: conj(l))\n",
    "test[\"genres\"]=test[\"genres\"].apply(lambda l: conj(l))"
   ]
  },
  {
   "cell_type": "code",
   "execution_count": 29,
   "metadata": {
    "_uuid": "0d1669d648fcff3470ee9f7d4bfe5ac3aefc3489"
   },
   "outputs": [],
   "source": [
    "def conj(j):\n",
    "    return [i[\"name\"] for i in eval(j)]\n",
    "train[\"production_companies\"]=train[\"production_companies\"].apply(lambda l: conj(l))\n",
    "test[\"production_companies\"]=test[\"production_companies\"].apply(lambda l: conj(l))"
   ]
  },
  {
   "cell_type": "code",
   "execution_count": 30,
   "metadata": {
    "_uuid": "05d4a79583d027e3495c5e4d73e7773cc0bd72bb"
   },
   "outputs": [],
   "source": [
    "def conj(j):\n",
    "    return [i[\"iso_3166_1\"] for i in eval(j)]\n",
    "train[\"production_countries\"]=train[\"production_countries\"].apply(lambda l: conj(l))\n",
    "test[\"production_countries\"]=test[\"production_countries\"].apply(lambda l: conj(l))"
   ]
  },
  {
   "cell_type": "code",
   "execution_count": 31,
   "metadata": {
    "_uuid": "aa7aa0308643013783f4d3d4510767d7297bf352"
   },
   "outputs": [],
   "source": [
    "def conj(j):\n",
    "    if pd.isnull(j):\n",
    "        return np.nan\n",
    "    return [i[\"name\"] for i in eval(str(j))]\n",
    "train[\"cast\"]=train[\"cast\"].apply(lambda l: conj(l))\n",
    "test[\"cast\"]=test[\"cast\"].apply(lambda l: conj(l))"
   ]
  },
  {
   "cell_type": "code",
   "execution_count": 32,
   "metadata": {
    "_uuid": "fe56f835c7e99a0e04e21992aa2e5c2c18b3029b"
   },
   "outputs": [],
   "source": [
    "def conj(j):\n",
    "    if pd.isnull(j):\n",
    "        return np.nan\n",
    "    return [i[\"name\"] for i in eval(str(j))]\n",
    "train[\"crew\"]=train[\"crew\"].apply(lambda l: conj(l))\n",
    "test[\"crew\"]=test[\"crew\"].apply(lambda l: conj(l))"
   ]
  },
  {
   "cell_type": "code",
   "execution_count": 33,
   "metadata": {
    "_uuid": "2f1f6466d2a032ae36ef3e753262e8a7091a6848"
   },
   "outputs": [],
   "source": [
    "from collections import Counter\n",
    "list1= list()\n",
    "for i in train.dropna().cast:\n",
    "    if i:\n",
    "        list1.extend(i)"
   ]
  },
  {
   "cell_type": "code",
   "execution_count": 34,
   "metadata": {
    "_uuid": "e8fd81a87f72b310c0b19c005768fcdd96353b9e"
   },
   "outputs": [],
   "source": [
    "from collections import Counter\n",
    "tlist1= list()\n",
    "for i in test.dropna().cast:\n",
    "    if i:\n",
    "        tlist1.extend(i)"
   ]
  },
  {
   "cell_type": "code",
   "execution_count": 35,
   "metadata": {
    "_uuid": "01d6c41f3b29972290a771574fbfa0cd9da3cf0b"
   },
   "outputs": [],
   "source": [
    "# q = Counter([i[1]for i in Counter(list1).most_common()]).most_common()"
   ]
  },
  {
   "cell_type": "code",
   "execution_count": 36,
   "metadata": {
    "_uuid": "06f4cc1baed7c45f372ec6f10e2d94a258be2994"
   },
   "outputs": [],
   "source": [
    "train=train.dropna(axis=0)\n",
    "train.cast = train.cast.apply(lambda y: np.nan if len(y)==0 else y)"
   ]
  },
  {
   "cell_type": "code",
   "execution_count": 37,
   "metadata": {
    "_uuid": "1b98b02b4bf120a9e836bc43316ba7eb776a2e1f"
   },
   "outputs": [],
   "source": [
    "test=test.dropna(axis=0)\n",
    "test.cast = test.cast.apply(lambda y: np.nan if len(y)==0 else y)"
   ]
  },
  {
   "cell_type": "code",
   "execution_count": 38,
   "metadata": {
    "_uuid": "270f49892bb0dbd5bf58b71ef1f2241fbc9eb80a",
    "scrolled": false
   },
   "outputs": [],
   "source": [
    "train=train.dropna(axis=0)\n",
    "test=test.dropna(axis=0)"
   ]
  },
  {
   "cell_type": "code",
   "execution_count": 39,
   "metadata": {
    "_uuid": "16ebe208c57c4298497ef4f73e1b66f9daf67a26"
   },
   "outputs": [],
   "source": [
    "list2=[]\n",
    "for i,j in zip(train[\"revenue\"],train[\"cast\"]):\n",
    "    for k in range(len(j)):\n",
    "        list2.append(i)"
   ]
  },
  {
   "cell_type": "code",
   "execution_count": 40,
   "metadata": {
    "_uuid": "9b5e600cfb8f09bafce819b4bf9175571904959d",
    "scrolled": true
   },
   "outputs": [],
   "source": [
    "# tyu=[len(i) for i in train[\"cast\"]]\n",
    "# tyu.index(0)"
   ]
  },
  {
   "cell_type": "code",
   "execution_count": 41,
   "metadata": {
    "_uuid": "e476e53058d6175f196aae5a61d28f5ea5533c3e"
   },
   "outputs": [],
   "source": [
    "app_count = dict(Counter(list1))\n",
    "list3=list(app_count.values())\n",
    "rate=dict([(k,i/j) for i,j,k in zip(list2,list3,app_count.keys())])\n",
    "def sume(l):\n",
    "    sum1=0\n",
    "    for i in l:\n",
    "        sum1+=rate[i]\n",
    "    return sum1/len(l)\n",
    "train[\"cast_rev\"]=train[\"cast\"].apply(lambda l : sume(l))"
   ]
  },
  {
   "cell_type": "code",
   "execution_count": 42,
   "metadata": {
    "_uuid": "a280d44d3e03a6477089f637e342116c8678e91b"
   },
   "outputs": [],
   "source": [
    "col= [ \"id\",\"original_language\", \"spoken_languages\", \"title_len\", \"runtime\"]\n",
    "for i in col:\n",
    "    train.drop(i, axis=1, inplace=True)"
   ]
  },
  {
   "cell_type": "code",
   "execution_count": 43,
   "metadata": {
    "_uuid": "f155be6c1c65356017ba1fd78033e310695d6048"
   },
   "outputs": [],
   "source": [
    "col= [ \"id\",\"original_language\", \"spoken_languages\", \"title_len\", \"runtime\"]\n",
    "for i in col:\n",
    "    test.drop(i, axis=1, inplace=True)"
   ]
  },
  {
   "cell_type": "raw",
   "metadata": {
    "_uuid": "2b2684a45045167a782631bbeef55a4bdc7ddceb"
   },
   "source": []
  },
  {
   "cell_type": "code",
   "execution_count": 44,
   "metadata": {
    "_uuid": "dfe782c31a74b91dbc547f3b2c9199a7f5924891"
   },
   "outputs": [],
   "source": [
    "# lo=list(set(np.hstack(train['production_companies'])))\n",
    "# enco=[]\n",
    "# for i in train[\"production_companies\"]:\n",
    "#     if type(i)== list:\n",
    "#         en=np.zeros((len(lo),),dtype=\"int\")\n",
    "#         for j in i:\n",
    "#             en[lo.index(j)]=1\n",
    "#         enco.append(list(en))\n",
    "#     else :\n",
    "#         enco.append(i)\n",
    "\n",
    "train[\"cast_rev\"]/=min(train[\"cast_rev\"])\n",
    "# test[\"cast_rev\"]/=min(test[\"cast_rev\"])"
   ]
  },
  {
   "cell_type": "code",
   "execution_count": 45,
   "metadata": {
    "_uuid": "97be5565682b3438dd430cf7ff0eee9d765b31aa"
   },
   "outputs": [
    {
     "data": {
      "text/plain": [
       "0       [Rob Corddry, Craig Robinson, Clark Duke, Adam...\n",
       "1       [Anne Hathaway, Julie Andrews, H√©ctor Elizond...\n",
       "2       [Miles Teller, J.K. Simmons, Melissa Benoist, ...\n",
       "3       [Vidya Balan, Nawazuddin Siddiqui, Parambrata ...\n",
       "4       [Kim Kang-woo, Jo Jae-hyeon, Park Si-yeon, Kim...\n",
       "5       [Scott Grimes, Tom Bosley, Rickie Lee Jones, J...\n",
       "6       [Jeffrey Dean Morgan, Natasha Calis, Madison D...\n",
       "7       [Samir Khader, Josh Rushing, George W. Bush, H...\n",
       "8       [Tim Curry, Kevin Bishop, Jennifer Saunders, B...\n",
       "9       [Bob Balaban, Christopher Guest, John Michael ...\n",
       "10      [Sylvester Stallone, Talia Shire, Burt Young, ...\n",
       "11      [Robert Carradine, Curtis Armstrong, Larry B. ...\n",
       "12      [Kevin Spacey, Annette Bening, Thora Birch, We...\n",
       "13      [John Travolta, Uma Thurman, Vince Vaughn, Ced...\n",
       "14      [Tom Cruise, Colin Farrell, Samantha Morton, M...\n",
       "15      [Nikola Rakoƒçeviƒá, Viktor Saviƒá, Nata≈°a Ta...\n",
       "16      [Rachel McAdams, Cillian Murphy, Brian Cox, Ja...\n",
       "17      [Ralph Fiennes, Felicity Jones, Joanna Scanlan...\n",
       "18      [Felicity Jones, Ed Westwick, Brooke Shields, ...\n",
       "19      [Jason Statham, Amber Valletta, Kate Nauta, Al...\n",
       "20      [Gary Oldman, William Hurt, Matt LeBlanc, Mimi...\n",
       "21      [Dana Kimmell, Paul Kratka, Tracie Savage, Jef...\n",
       "22      [Calvin Lee Reeder, Lane Hughes, Adam Wingard,...\n",
       "23      [Max Perlich, Lesley-Ann Brandt, Matt Knudsen,...\n",
       "24      [Nathan Meister, Peter Feeney, Danielle Mason,...\n",
       "25      [Larry Drake, Holly Marie Combs, Cliff DeYoung...\n",
       "26      [Steve Martin, Campbell Scott, Ben Gazzara, Re...\n",
       "27      [Daniel Radcliffe, Zoe Kazan, Rafe Spall, Mega...\n",
       "28      [Judd Nelson, Peter Cullen, Frank Welker, Leon...\n",
       "29      [Ben Affleck, Samuel L. Jackson, Kim Staunton,...\n",
       "30      [Fran√ßois Cluzet, Omar Sy, Audrey Fleurot, An...\n",
       "31      [Daniel Auteuil, Juliette Binoche, Annie Girar...\n",
       "32      [Vin Diesel, Rose Leslie, Elijah Wood, √ìlafur...\n",
       "33      [Eric Jacobus, Julian Barratt, Ian Virgo, Migu...\n",
       "34      [Chris Tucker, Jackie Chan, Hiroyuki Sanada, M...\n",
       "35      [Jason Statham, Chris Sarandon, James Hong, Ca...\n",
       "36      [Kate Hudson, Frances O'Connor, Tommy Tiernan,...\n",
       "37      [Dustin Hoffman, Rene Russo, Morgan Freeman, K...\n",
       "38      [Jah Shams, Mary Grace, Masashi Nagadoi, Dave ...\n",
       "39      [Charlton Heston, Richard Harris, Jim Hutton, ...\n",
       "40      [Jon Roberts, Jorge Ayala, Mickey Munday, Toni...\n",
       "41      [Paul Newman, George Kennedy, Luke Askew, Morg...\n",
       "42      [Madonna, Rupert Everett, Benjamin Bratt, Malc...\n",
       "43      [Morgan Freeman, Diane Keaton, Carrie Preston,...\n",
       "44      [Debra Messing, Dermot Mulroney, Amy Adams, Ja...\n",
       "45      [Kseniya Rappoport, Filippo Timi, Antonia Trup...\n",
       "46      [Ray Romano, John Leguizamo, Denis Leary, Quee...\n",
       "47      [Samuel L. Jackson, Kurt Russell, Jennifer Jas...\n",
       "48      [Woody Harrelson, Sandy Oian-Thomas, Shaun Bro...\n",
       "49      [Patrick Stewart, Jonathan Frakes, Brent Spine...\n",
       "                              ...                        \n",
       "2948    [Sacha Baron Cohen, Mark Strong, Isla Fisher, ...\n",
       "2949    [Fernando Fern√°n G√≥mez, Manuel Lozano, Ux√≠a...\n",
       "2950    [Robert Englund, Ken Kirzinger, Jason Ritter, ...\n",
       "2951    [Helen Mirren, Aaron Paul, Alan Rickman, Iain ...\n",
       "2952    [Blake Lively, Michiel Huisman, Harrison Ford,...\n",
       "2953    [Benicio del Toro, Ryan Phillippe, Juliette Le...\n",
       "2954    [Jude Law, Marisa Tomei, Omar Epps, Jane Krako...\n",
       "2955    [Richard Gere, Don Cheadle, Ethan Hawke, Wesle...\n",
       "2956    [Chuck Norris, Louis Gossett, Jr., Melody Ande...\n",
       "2957    [Wesley Snipes, Woody Harrelson, Jennifer Lope...\n",
       "2958    [Bono, The Edge, Adam Clayton,  Larry Mullen Jr.]\n",
       "2959    [Shahid Kapoor, Kareena Kapoor, Saumya Tandon,...\n",
       "2960    [Emma Roberts, Noel Clarke, Ophelia Lovibond, ...\n",
       "2961    [Dan Monahan, Mark Herrier, Wyatt Knight, Cyri...\n",
       "2962    [Sam Worthington, Octavia Spencer, Tim McGraw,...\n",
       "2963    [Yui Aragaki, Haruma Miura, Keisuke Koide, Kar...\n",
       "2966    [Michael Jai White, Martin Sheen, John Leguiza...\n",
       "2967    [Paul Newman, Jackie Gleason, Piper Laurie, Ge...\n",
       "2968    [Kristanna Loken, Ben Kingsley, Michelle Rodri...\n",
       "2969    [Helen Mirren, Clive Owen, Maggie Smith, Geral...\n",
       "2970    [Whitney Houston, Kevin Costner, Michele Lamar...\n",
       "2971    [Jim Belushi, Michael Caine, Linda Hamilton, J...\n",
       "2972    [Donnie Yen, Nicholas Tse, Shawn Yue, Dong Jie...\n",
       "2973    [John Stockwell, Dennis Hopper, Danielle von Z...\n",
       "2974    [Christian Slater, Tara Reid, Stephen Dorff, F...\n",
       "2975    [Carter Jenkins, Austin Butler, Kevin Nealon, ...\n",
       "2976    [Danny DeVito, Bette Midler, Neve Campbell, Ja...\n",
       "2977    [Jennifer Lopez, Jim Caviezel, Jeremy Sisto, T...\n",
       "2978    [Ewan McGregor, Christian Bale, Jonathan Rhys ...\n",
       "2979    [Jennifer Lopez, Alex O'Loughlin, Danneel Ackl...\n",
       "2980    [Nivin Pauly, Anu Emmanuel, Major Ravi, Saiju ...\n",
       "2981    [Jesse Plemons, Molly Shannon, Bradley Whitfor...\n",
       "2982    [Mary Elizabeth Winstead, Aaron Paul, Octavia ...\n",
       "2983    [Sophie Marceau, Sean Bean, Alfred Molina, Mia...\n",
       "2984    [Samuel L. Jackson, Colin Farrell, Michelle Ro...\n",
       "2985    [Samuel L. Jackson, Julianne Moore, Edie Falco...\n",
       "2986    [Cole Hauser, Robin Tunney, Dennis Farina, Dan...\n",
       "2987    [George Kennedy, Andrew Stevens, Starr Andreef...\n",
       "2988    [Mania Akbari, Amin Maher, Kamran Adl, Roya Ar...\n",
       "2989    [Jason Alexander, Mary Steenburgen, Reese With...\n",
       "2990    [Halle Berry, Martin Landau, Ian Richardson, N...\n",
       "2991    [Julia Stiles, Sean Patrick Thomas, Kerry Wash...\n",
       "2992    [Douglas Fairbanks, Snitz Edwards, Charles Bel...\n",
       "2993    [Tom Hanks, Catherine Zeta-Jones, Stanley Tucc...\n",
       "2994    [Brendan Fraser, Matt Damon, Chris O'Donnell, ...\n",
       "2995    [Tom Berenger, William McNamara, –≠—Ä–∏–∫–∞ –≠...\n",
       "2996    [Mira Barkhammar, Mira Grosin, Liv LeMoyne, Da...\n",
       "2997    [Geena Davis, Samuel L. Jackson, Yvonne Zima, ...\n",
       "2998    [Ben Stiller, Jennifer Aniston, Philip Seymour...\n",
       "2999    [Taylor Lautner, Lily Collins, Alfred Molina, ...\n",
       "Name: cast, Length: 2972, dtype: object"
      ]
     },
     "execution_count": 45,
     "metadata": {},
     "output_type": "execute_result"
    }
   ],
   "source": [
    "train[\"cast\"]"
   ]
  },
  {
   "cell_type": "code",
   "execution_count": 46,
   "metadata": {
    "_uuid": "765a800db693f622abb9a638fcc7468758f02a24"
   },
   "outputs": [],
   "source": [
    "train[\"cast_no\"]=train[\"cast\"].apply(lambda l: np.max([app_count[i] for i in l]))"
   ]
  },
  {
   "cell_type": "code",
   "execution_count": null,
   "metadata": {
    "_uuid": "7152d27fc2d6320b2c206093701d7bfcda30c5f9"
   },
   "outputs": [],
   "source": []
  },
  {
   "cell_type": "code",
   "execution_count": 47,
   "metadata": {
    "_uuid": "f54880e54edad51cf0b616084dfff9ee96cda30e"
   },
   "outputs": [
    {
     "data": {
      "text/plain": [
       "0       [Craig Blair, Emily Bauer, Sarah Natochenny, I...\n",
       "1       [Allison Hayes, William Hudson, Yvette Vickers...\n",
       "2       [Meg Ryan, Matthew Broderick, Kelly Preston, T...\n",
       "3       [Lubna Azabal, M√©lissa D√©sormeaux-Poulin, Ma...\n",
       "4       [Dennis Hopper, Peter Bart, Warren Beatty, Car...\n",
       "5       [Jayce Bartok, Amie Carey, Nicky Katt, Ajay Na...\n",
       "6       [Sophie Rois, Sebastian Schipper, Devid Stries...\n",
       "7       [Jim Cummings, Nikita Hopkins, Ken Sansom, Joh...\n",
       "8       [Anne Hathaway, James McAvoy, Julie Walters, J...\n",
       "9       [Tom Hanks, Tim Allen, Joan Cusack, Kelsey Gra...\n",
       "10      [Edward Furlong, Daniel Franzese, Andrew Keega...\n",
       "11      [Karidja Tour√©, Assa Sylla, Lindsay Karamoh, ...\n",
       "12      [N!xau, Michael Thys, Marius Weyers, Sandra Pr...\n",
       "13      [Victor Rasuk, Judy Marte, Melonie Diaz, Altag...\n",
       "14      [Rachel Weisz, Adrien Brody, Mark Ruffalo, Rin...\n",
       "15      [Michael Sheen, Maria Bello, Alan Tudyk, Moon ...\n",
       "16      [John Cusack, Lizzy Caplan, Rob Corddry, Craig...\n",
       "17      [Johnny Depp, Paul Bettany, Rebecca Hall, Kate...\n",
       "18      [Roy Scheider, Jessica Lange, Leland Palmer, A...\n",
       "19      [Kate Winslet, Leonardo DiCaprio, Frances Fish...\n",
       "20      [Jon Favreau, Leland Orser, Cameron Diaz, Chri...\n",
       "21      [Dane Cook, Kate Hudson, Alec Baldwin, Jason B...\n",
       "22      [Brian F. Durkin, Jason Leith, Richard Tillman...\n",
       "23      [Carrie-Anne Moss, Aaron Eckhart, Ben Kingsley...\n",
       "24      [James Franco, Amber Heard, Ed Harris, Christi...\n",
       "25      [Robert De Niro, Nick Nolte, Jessica Lange, Ju...\n",
       "26      [Tami Erin, David Seaman, Cory Crow, Eileen Br...\n",
       "27      [Ben Affleck, Anna Kendrick, J.K. Simmons, Jon...\n",
       "28      [Ohad Knoller, Lior Ashkenazi, Orly Silbersatz...\n",
       "29      [Colin Farrell, Scott Caan, Ali Larter, Gabrie...\n",
       "30      [Sook-Yin Lee, Paul Dawson, PJ DeBoy, Jay Bran...\n",
       "31      [Aamir Khan, Soha Ali Khan, Alice Patten, Shar...\n",
       "32          [Charis Michelsen, Tom Larson, Richard Spore]\n",
       "34      [Jenny Slate, Jake Lacy, Gaby Hoffmann, Paul B...\n",
       "35      [Ethan Hawke, Sarah Snook, Noah Taylor, Christ...\n",
       "36      [Jessica Alba, Mekhi Phifer, Joy Bryant, Romeo...\n",
       "37      [Lauren Cohan, Rupert Evans, James Russell, Ji...\n",
       "38      [Anne-Marie Loop, Lambert Wilson, Pauline Brun...\n",
       "39      [Peggy Ashcroft, John Mills, Robin Houston, Da...\n",
       "40      [Charlize Theron, Patton Oswalt, Patrick Wilso...\n",
       "41      [James Woods, Brian Dennehy, Victoria Tennant,...\n",
       "42      [Danielle Panabaker, Matt Bush, Katrina Bowden...\n",
       "43      [Lambert Wilson, Franck Dubosc, Florence Fores...\n",
       "44      [Chris Evans, Hugo Weaving, Tommy Lee Jones, H...\n",
       "45      [Christopher Walken, Rupert Everett, Natasha R...\n",
       "46      [Humphrey Bogart, Walter Brennan, Lauren Bacal...\n",
       "47      [Paul Walker, Cameron Bright, Vera Farmiga, Ch...\n",
       "48      [Fisher Stevens, Michael McKean, Cynthia Gibb,...\n",
       "49      [John Travolta, Karen Lynn Gorney, Barry Mille...\n",
       "50      [Eric Roberts, Joe Pantoliano, Tia Carrere, To...\n",
       "                              ...                        \n",
       "4348    [Kurt Russell, Kevin Costner, Courteney Cox, C...\n",
       "4349    [Jim Carrey, Ewan McGregor, Leslie Mann, Rodri...\n",
       "4350    [Meryl Streep, Philip Seymour Hoffman, Amy Ada...\n",
       "4351    [Habib Amiri, Setara Hussainzada, Rafi Naabzad...\n",
       "4352    [John Belushi, Blair Brown, Allen Garfield, Ca...\n",
       "4353    [Martin Escudero, Lauren Young, Kerbie Zamora,...\n",
       "4354    [Dane Cook, Jessica Alba, Dan Fogler, Ellia En...\n",
       "4355    [Tim Robbins, Elizabeth Pe√±a, Danny Aiello, M...\n",
       "4356    [Abhishek Bachchan, Aishwarya Rai Bachchan, Go...\n",
       "4357    [Richard Roundtree, Moses Gunn, Charles Cioffi...\n",
       "4358    [Sam Rockwell, Rosemarie DeWitt, Saxon Sharbin...\n",
       "4359    [Dan Aykroyd, Kim Basinger, Jon Lovitz, Alyson...\n",
       "4360    [Paul Campbell, Mark Danvers, Carl Bradshaw, A...\n",
       "4361    [Russell Crowe, Christian Bale, Logan Lerman, ...\n",
       "4362    [Daniel Craig, Judi Dench, Javier Bardem, Ralp...\n",
       "4363    [Carole Bouquet, Daniel Auteuil, Patrice Ch√©r...\n",
       "4364    [Seth Rogen, James Franco, Danny McBride, Gary...\n",
       "4365    [Steven Strait, Laura Ramsey, Jessica Lucas, T...\n",
       "4366    [Odette Annable, George Lopez, Zachary Gordon,...\n",
       "4367    [Michael Keaton, Teri Garr, Fred Koehler, Tali...\n",
       "4368    [Natalie Portman, Joel Edgerton, Ewan McGregor...\n",
       "4369    [Rhona Mitra, Bob Hoskins, Malcolm McDowell, A...\n",
       "4370    [Casper Van Dien, Michael York, Catherine Oxen...\n",
       "4371    [Cher, Christina Aguilera, Eric Dane, Cam Giga...\n",
       "4372    [Ben Kingsley, Sacha Baron Cohen, Asa Butterfi...\n",
       "4373    [Sissy Spacek, Piper Laurie, Amy Irving, Willi...\n",
       "4374    [Susan Sarandon, Geena Davis, Harvey Keitel, B...\n",
       "4375    [Ernesto Mahieux, Valerio Foglia Manzillo, Eli...\n",
       "4376    [Clint Eastwood, Telly Savalas, Don Rickles, C...\n",
       "4377    [Idris Elba, Taraji P. Henson, Leslie Bibb, Ka...\n",
       "4378    [Nicolas Cage, Bridget Moynahan, Jared Leto, E...\n",
       "4379    [Hailee Steinfeld, Sophie Turner, Jessica Alba...\n",
       "4380    [Andy Samberg, Jorma Taccone, Akiva Schaffer, ...\n",
       "4381    [Joe Cocker, Richie Havens, Joan Baez, Arlo Gu...\n",
       "4382    [Marat Basharov, Yuriy Kutsenko, Vladislav Gal...\n",
       "4383    [Jason Bateman, Hope Davis, Frank Grillo, Paul...\n",
       "4384    [Kevin Costner, Gene Hackman, Sean Young, Will...\n",
       "4385    [Method Man, Redman, Obba Babatund√©, Mike Epp...\n",
       "4386    [David Hewlett, Deborah Raffin, Yvan Ponton, I...\n",
       "4387    [Kurt Russell, Matt Dillon, Jay Baruchel, Kenn...\n",
       "4388    [Michael Rapaport, Josh Peck, Robert Baker, Ja...\n",
       "4389    [Rob Schneider, Michelle Rodriguez, Adrien Bro...\n",
       "4390    [Theresa Russell, John Diehl, Antonio Fargas, ...\n",
       "4391    [Gabourey Sidibe, Mo'Nique, Paula Patton, Mari...\n",
       "4392    [Arnold Schwarzenegger, Jason Clarke, Emilia C...\n",
       "4393    [Angelina Jolie, Antonio Banderas, Gregory Itz...\n",
       "4394    [Seth Green, Matthew Lillard, Dax Shepard, Ant...\n",
       "4395    [Paul Newman, Charlotte Rampling, Jack Warden,...\n",
       "4396    [Maika Monroe, Keir Gilchrist, Daniel Zovatto,...\n",
       "4397    [Anna Karina, Sady Rebbot, Andr√© S. Labarthe,...\n",
       "Name: cast, Length: 4360, dtype: object"
      ]
     },
     "execution_count": 47,
     "metadata": {},
     "output_type": "execute_result"
    }
   ],
   "source": [
    "test[\"cast\"]"
   ]
  },
  {
   "cell_type": "code",
   "execution_count": 48,
   "metadata": {
    "_uuid": "9bed9e140a94efe7e6f59c4035fde32996e05dcc"
   },
   "outputs": [],
   "source": [
    "# test[\"cast_no\"]=test[\"cast\"].apply(lambda l: np.max([app_count[i] for i in l]))"
   ]
  },
  {
   "cell_type": "code",
   "execution_count": null,
   "metadata": {
    "_uuid": "6c6596164237cd8216f692396ae2db55480faa8b"
   },
   "outputs": [],
   "source": []
  },
  {
   "cell_type": "code",
   "execution_count": 49,
   "metadata": {
    "_uuid": "d8cf69c5e69614e03f8decebb5fc167d0e5a7ef7"
   },
   "outputs": [],
   "source": [
    "train=train.drop(\"cast\",axis=1)\n",
    "test=test.drop(\"cast\",axis=1)"
   ]
  },
  {
   "cell_type": "code",
   "execution_count": 50,
   "metadata": {
    "_uuid": "8726fb6061d1d25001b335964980dd1cfc9a601f"
   },
   "outputs": [],
   "source": [
    "#This feature came out to be of less significance, therefore no need for doin this \n",
    "# lo1=list(set(np.hstack(train['genres'])))\n",
    "# enco1=[]\n",
    "# for i in train[\"genres\"]:\n",
    "#     if type(i)== list:\n",
    "#         en=np.zeros((len(lo1),),dtype=\"int\")\n",
    "#         for j in i:\n",
    "#             en[lo1.index(j)]=1\n",
    "#         enco1.append(list(en))\n",
    "#     else :\n",
    "#         print(type(i))\n",
    "#         enco1.append(i)"
   ]
  },
  {
   "cell_type": "code",
   "execution_count": 51,
   "metadata": {
    "_uuid": "59d9f9c7e91d8568977d79f671c3389d3f5aeb42"
   },
   "outputs": [],
   "source": [
    "# train[[\"g\"+str(i) for i in range(20)]]=pd.DataFrame(enco1,index=train.index)"
   ]
  },
  {
   "cell_type": "code",
   "execution_count": 52,
   "metadata": {
    "_uuid": "e4fe1902996951058bdcc64702ef97fd9e977c1f"
   },
   "outputs": [],
   "source": [
    "train.drop(\"crew\",axis=1,inplace=True)\n",
    "test.drop(\"crew\",axis=1,inplace=True)"
   ]
  },
  {
   "cell_type": "code",
   "execution_count": 53,
   "metadata": {
    "_uuid": "3f3017a82fc7a0fb3fa30e8f0f779522692091b3"
   },
   "outputs": [],
   "source": [
    "train.drop(\"production_countries\",axis=1,inplace=True)\n",
    "test.drop(\"production_countries\",axis=1,inplace=True)"
   ]
  },
  {
   "cell_type": "code",
   "execution_count": 54,
   "metadata": {
    "_uuid": "5850e5da5b82cdb5df4e1a54e62f6b56ffbfca66"
   },
   "outputs": [],
   "source": [
    "train.drop([\"genres\",\"release_date\"],axis=1,inplace=True)\n",
    "test.drop([\"genres\",\"release_date\"],axis=1,inplace=True)"
   ]
  },
  {
   "cell_type": "code",
   "execution_count": 55,
   "metadata": {
    "_uuid": "6b90b305fe16c52a9418189e3b767d27164c3ba4"
   },
   "outputs": [],
   "source": [
    "from collections import Counter\n",
    "list1= list()\n",
    "for i in train.dropna().production_companies:\n",
    "    if i:\n",
    "        list1.extend(i)\n",
    "train.production_companies = train.production_companies.apply(lambda y: np.nan if len(y)==0 else y)\n",
    "train=train.dropna(axis=0)"
   ]
  },
  {
   "cell_type": "code",
   "execution_count": 56,
   "metadata": {
    "_uuid": "ddfc14b4dcd5cd879224c11147c8ba5bb6cbc29d"
   },
   "outputs": [],
   "source": [
    "from collections import Counter\n",
    "tlist1= list()\n",
    "for i in test.dropna().production_companies:\n",
    "    if i:\n",
    "        tlist1.extend(i)\n",
    "test.production_companies = test.production_companies.apply(lambda y: np.nan if len(y)==0 else y)\n",
    "test=test.dropna(axis=0)"
   ]
  },
  {
   "cell_type": "code",
   "execution_count": 57,
   "metadata": {
    "_uuid": "3967822150885c4038d04c10cc8b544c0ac29248"
   },
   "outputs": [],
   "source": [
    "app_count = dict(Counter(list1))"
   ]
  },
  {
   "cell_type": "code",
   "execution_count": 58,
   "metadata": {
    "_uuid": "f33b5b363e92bbde8adf5b92c8141c308dab75ca"
   },
   "outputs": [],
   "source": [
    "train[\"production_no\"]=train[\"production_companies\"].apply(lambda l: np.max([app_count[i] for i in l]))\n",
    "# test[\"production_no\"]=test[\"production_companies\"].apply(lambda l: np.max([app_count[i] for i in l]))"
   ]
  },
  {
   "cell_type": "code",
   "execution_count": 59,
   "metadata": {
    "_uuid": "38f32f881036c15c41bba7e0d10f84dc3f30d557"
   },
   "outputs": [],
   "source": [
    "train.drop(\"production_companies\",axis=1,inplace=True)\n",
    "test.drop(\"production_companies\",axis=1,inplace=True)"
   ]
  },
  {
   "cell_type": "code",
   "execution_count": 60,
   "metadata": {
    "_uuid": "a6e38dcbfa0ad209734885d4cd3cfe2f41eb3d1f"
   },
   "outputs": [],
   "source": [
    "ct = OneHotEncoder()\n",
    "train[\"status\"]=ct.fit_transform([train[\"status\"]]).toarray()[0]\n",
    "test[\"status\"]=ct.fit_transform([test[\"status\"]]).toarray()[0]"
   ]
  },
  {
   "cell_type": "code",
   "execution_count": 61,
   "metadata": {
    "_uuid": "ae537c2164f6555d779e5cdeff481eb259c76747"
   },
   "outputs": [],
   "source": [
    "train.drop(\"status\",axis=1,inplace=True)\n",
    "test.drop(\"status\",axis=1,inplace=True)"
   ]
  },
  {
   "cell_type": "code",
   "execution_count": 62,
   "metadata": {
    "_uuid": "3091a95e6ac04745f46f5aa1e4273486bccbf1cd"
   },
   "outputs": [],
   "source": [
    "sc = StandardScaler()\n",
    "scaled = sc.fit_transform(train.values)\n",
    "df1=pd.DataFrame(scaled)\n",
    "X = df1[[i for i in df1.columns if i != 2]].values\n",
    "y = df1[2].values"
   ]
  },
  {
   "cell_type": "code",
   "execution_count": 63,
   "metadata": {
    "_uuid": "bd5bcadba86403f70f7d90583a1df78cb97134e9"
   },
   "outputs": [],
   "source": [
    "from sklearn.model_selection import train_test_split\n",
    "X_train, X_test, y_train, y_test = train_test_split(X, y, test_size=1/4, random_state=0)"
   ]
  },
  {
   "cell_type": "code",
   "execution_count": 64,
   "metadata": {
    "_uuid": "880363a8fc14ef4125943a2c13b2652c98be1298"
   },
   "outputs": [
    {
     "data": {
      "text/plain": [
       "LinearRegression(copy_X=True, fit_intercept=True, n_jobs=None, normalize=False)"
      ]
     },
     "execution_count": 64,
     "metadata": {},
     "output_type": "execute_result"
    }
   ],
   "source": [
    "from sklearn.linear_model import LinearRegression\n",
    "regressor= LinearRegression()\n",
    "regressor.fit(X_train, y_train)\n"
   ]
  },
  {
   "cell_type": "code",
   "execution_count": 65,
   "metadata": {
    "_uuid": "17914a27bc3ca4aff4633ce1a251ad41a3b84798"
   },
   "outputs": [],
   "source": [
    "y_pred1= regressor.predict(X_test)"
   ]
  },
  {
   "cell_type": "code",
   "execution_count": 66,
   "metadata": {
    "_uuid": "fc1ac1f84d544afd20d51b23fefe24ff3be9f17f"
   },
   "outputs": [],
   "source": [
    "def rmse(pred, actual):\n",
    "    return np.sqrt(((pred-actual)**2).mean())"
   ]
  },
  {
   "cell_type": "code",
   "execution_count": 67,
   "metadata": {
    "_uuid": "adba0945d6cc96c3e9bcec2fc169d3f50581b425"
   },
   "outputs": [
    {
     "name": "stdout",
     "output_type": "stream",
     "text": [
      "0.67819198465467833703\n"
     ]
    }
   ],
   "source": [
    "print(\"%.20f\"%rmse(y_pred1, y_test))"
   ]
  },
  {
   "cell_type": "code",
   "execution_count": 68,
   "metadata": {
    "_uuid": "73fcd60731b361ea8b0f93f56675cfe439627e88"
   },
   "outputs": [
    {
     "name": "stdout",
     "output_type": "stream",
     "text": [
      "0.6091882049\n"
     ]
    }
   ],
   "source": [
    "from sklearn.metrics import r2_score\n",
    "print(\"%.10f\"%r2_score(y_test, y_pred1))"
   ]
  },
  {
   "cell_type": "code",
   "execution_count": 69,
   "metadata": {
    "_uuid": "974d37a66e552821fb861b92ce4088e631974888"
   },
   "outputs": [
    {
     "data": {
      "text/plain": [
       "RandomForestRegressor(bootstrap=True, criterion='mse', max_depth=None,\n",
       "                      max_features='auto', max_leaf_nodes=None,\n",
       "                      min_impurity_decrease=0.0, min_impurity_split=None,\n",
       "                      min_samples_leaf=1, min_samples_split=2,\n",
       "                      min_weight_fraction_leaf=0.0, n_estimators=400,\n",
       "                      n_jobs=None, oob_score=False, random_state=None,\n",
       "                      verbose=0, warm_start=False)"
      ]
     },
     "execution_count": 69,
     "metadata": {},
     "output_type": "execute_result"
    }
   ],
   "source": [
    "from sklearn.ensemble import RandomForestRegressor \n",
    "regressor2= RandomForestRegressor(n_estimators= 400)\n",
    "regressor2.fit(X_train, y_train)\n"
   ]
  },
  {
   "cell_type": "code",
   "execution_count": 70,
   "metadata": {
    "_uuid": "e839b767bc710a2ea18d9f838cdae5a3da8c7b2e"
   },
   "outputs": [],
   "source": [
    "y_pred2= regressor2.predict(X_test)"
   ]
  },
  {
   "cell_type": "code",
   "execution_count": 71,
   "metadata": {
    "_uuid": "96762d36ccb28eda74150ea031f873e6955ed8ce"
   },
   "outputs": [
    {
     "data": {
      "text/plain": [
       "0.6050948848520032"
      ]
     },
     "execution_count": 71,
     "metadata": {},
     "output_type": "execute_result"
    }
   ],
   "source": [
    "r2_score(y_test, y_pred2)"
   ]
  },
  {
   "cell_type": "code",
   "execution_count": 72,
   "metadata": {
    "_uuid": "7523274ee165c4af707c3d09744ecc4aa59ee65a"
   },
   "outputs": [
    {
     "data": {
      "text/plain": [
       "0.68173438754473"
      ]
     },
     "execution_count": 72,
     "metadata": {},
     "output_type": "execute_result"
    }
   ],
   "source": [
    "rmse(y_pred2, y_test)"
   ]
  },
  {
   "cell_type": "markdown",
   "metadata": {
    "_uuid": "7d5490d1f4fb60b7aabaa07db6b1f2996f2e9a91"
   },
   "source": [
    "SGDRegressor"
   ]
  },
  {
   "cell_type": "markdown",
   "metadata": {},
   "source": [
    "Стохастический градиентный спуск (англ. Stochastic gradient descent, SGD) — это метод итерации для оптимизации целевой функции с подходящими свойствами гладкости (например, дифференцируемость или субдифференцируемость). Его можно расценивать как стохастическую аппроксимацию оптимизации методом градиентного спуска, поскольку он заменяет реальный градиент (вычисленный из полного набора данных) путём оценки такового (вычисленного из случайно выбранного подмножества данных). Особенно в приложениях обработки больших данных это сокращает вычислительные ресурсы, достигая более быстрые итерации в обмен на более низкую скорость сходимости.\n",
    "Преимущества стохастического градиентного спуска:\n",
    "Эффективность.\n",
    "Простота реализации (множество возможностей для настройки кода).\n",
    "\n",
    "Класс SGDRegressor реализует простую процедуру обучения стохастического градиентного спуска, которая поддерживает различные функции потерь и штрафы для соответствия моделям линейной регрессии. SGDRegressor хорошо подходит для задач регрессии с большим количеством обучающих выборок (> 10.000)"
   ]
  },
  {
   "cell_type": "code",
   "execution_count": 73,
   "metadata": {
    "_uuid": "1abbacd0fe5c2876a319bb943c5402609c2655d8"
   },
   "outputs": [],
   "source": [
    "import xgboost\n",
    "from sklearn.ensemble import RandomForestRegressor\n",
    "from sklearn.linear_model import SGDRegressor\n",
    "from sklearn.metrics import mean_squared_error\n",
    "from sklearn.model_selection import train_test_split"
   ]
  },
  {
   "cell_type": "code",
   "execution_count": 74,
   "metadata": {},
   "outputs": [],
   "source": [
    "model_error = {}"
   ]
  },
  {
   "cell_type": "code",
   "execution_count": 75,
   "metadata": {},
   "outputs": [
    {
     "name": "stdout",
     "output_type": "stream",
     "text": [
      "Wall time: 17 ms\n"
     ]
    },
    {
     "data": {
      "text/plain": [
       "SGDRegressor(alpha=0.0001, average=False, early_stopping=False, epsilon=0.1,\n",
       "             eta0=0.01, fit_intercept=True, l1_ratio=0.15,\n",
       "             learning_rate='invscaling', loss='squared_loss', max_iter=1000,\n",
       "             n_iter_no_change=5, penalty='l2', power_t=0.25, random_state=None,\n",
       "             shuffle=True, tol=0.001, validation_fraction=0.1, verbose=0,\n",
       "             warm_start=False)"
      ]
     },
     "execution_count": 75,
     "metadata": {},
     "output_type": "execute_result"
    }
   ],
   "source": [
    "%%time\n",
    "model_sgd = SGDRegressor()\n",
    "model_sgd.fit(X_train, y_train)"
   ]
  },
  {
   "cell_type": "code",
   "execution_count": 76,
   "metadata": {},
   "outputs": [
    {
     "name": "stdout",
     "output_type": "stream",
     "text": [
      "0.6790437198956571\n"
     ]
    }
   ],
   "source": [
    "pred_sgd = model_sgd.predict(X_test)\n",
    "sgd_rmse = np.sqrt(mean_squared_error(y_test, pred_sgd))\n",
    "model_error['SGDRegressor'] = sgd_rmse\n",
    "print(sgd_rmse)"
   ]
  },
  {
   "cell_type": "markdown",
   "metadata": {},
   "source": [
    "LinearRegression"
   ]
  },
  {
   "cell_type": "markdown",
   "metadata": {},
   "source": [
    "Линейная регрессия (англ. Linear regression) — используемая в статистике регрессионная модель зависимости одной (объясняемой, зависимой) переменной {\\displaystyle y}y от другой или нескольких других переменных (факторов, регрессоров, независимых переменных) {\\displaystyle x}x с линейной функцией зависимости.\n",
    "\n",
    "Модель линейной регрессии является часто используемой и наиболее изученной в эконометрике. А именно изучены свойства оценок параметров, получаемых различными методами при предположениях о вероятностных характеристиках факторов, и случайных ошибок модели. Предельные (асимптотические) свойства оценок нелинейных моделей также выводятся исходя из аппроксимации последних линейными моделями. "
   ]
  },
  {
   "cell_type": "code",
   "execution_count": 77,
   "metadata": {},
   "outputs": [
    {
     "name": "stdout",
     "output_type": "stream",
     "text": [
      "Wall time: 74.8 ms\n"
     ]
    },
    {
     "data": {
      "text/plain": [
       "LinearRegression(copy_X=True, fit_intercept=True, n_jobs=None, normalize=False)"
      ]
     },
     "execution_count": 77,
     "metadata": {},
     "output_type": "execute_result"
    }
   ],
   "source": [
    "%%time\n",
    "model_lr = LinearRegression()\n",
    "model_lr.fit(X_train, y_train)"
   ]
  },
  {
   "cell_type": "code",
   "execution_count": 78,
   "metadata": {},
   "outputs": [
    {
     "name": "stdout",
     "output_type": "stream",
     "text": [
      "0.6781919846546783\n"
     ]
    }
   ],
   "source": [
    "pred_lr = model_lr.predict(X_test)\n",
    "lr_rmse = np.sqrt(mean_squared_error(y_test, pred_lr))\n",
    "model_error['LinearRegression'] = lr_rmse\n",
    "print(lr_rmse)"
   ]
  },
  {
   "cell_type": "markdown",
   "metadata": {},
   "source": [
    "XGBoost"
   ]
  },
  {
   "cell_type": "markdown",
   "metadata": {},
   "source": [
    "XGBoost - это реализация деревьев решений с градиентным усилением, разработанных для скорости и производительности.\n",
    "\n",
    "XGBoost доминирует над структурированными или табличными наборами данных в задачах прогнозирования и классификации. Библиотека XGBoost реализует алгоритм дерева решений для повышения градиента."
   ]
  },
  {
   "cell_type": "code",
   "execution_count": 79,
   "metadata": {},
   "outputs": [
    {
     "name": "stdout",
     "output_type": "stream",
     "text": [
      "Wall time: 416 ms\n"
     ]
    },
    {
     "data": {
      "text/plain": [
       "XGBRegressor(base_score=0.5, booster=None, colsample_bylevel=1,\n",
       "             colsample_bynode=1, colsample_bytree=1, gamma=0, gpu_id=-1,\n",
       "             importance_type='gain', interaction_constraints=None,\n",
       "             learning_rate=0.300000012, max_delta_step=0, max_depth=6,\n",
       "             min_child_weight=1, missing=nan, monotone_constraints=None,\n",
       "             n_estimators=100, n_jobs=0, num_parallel_tree=1,\n",
       "             objective='reg:squarederror', random_state=0, reg_alpha=0,\n",
       "             reg_lambda=1, scale_pos_weight=1, subsample=1, tree_method=None,\n",
       "             validate_parameters=False, verbosity=None)"
      ]
     },
     "execution_count": 79,
     "metadata": {},
     "output_type": "execute_result"
    }
   ],
   "source": [
    "%%time\n",
    "model_xgboost = xgboost.XGBRegressor()\n",
    "model_xgboost.fit(X_train, y_train)"
   ]
  },
  {
   "cell_type": "code",
   "execution_count": 80,
   "metadata": {},
   "outputs": [
    {
     "name": "stdout",
     "output_type": "stream",
     "text": [
      "0.7577253367023868\n"
     ]
    }
   ],
   "source": [
    "pred_xgb = model_xgboost.predict(X_test)\n",
    "xgboost_rmse = np.sqrt(mean_squared_error(y_test, pred_xgb))\n",
    "model_error['XGBoost'] = xgboost_rmse\n",
    "print(xgboost_rmse)"
   ]
  },
  {
   "cell_type": "code",
   "execution_count": 81,
   "metadata": {},
   "outputs": [
    {
     "data": {
      "text/plain": [
       "<matplotlib.axes._subplots.AxesSubplot at 0x22a222199e8>"
      ]
     },
     "execution_count": 81,
     "metadata": {},
     "output_type": "execute_result"
    },
    {
     "data": {
      "image/png": "[encoded data removed]",
      "text/plain": [
       "<Figure size 1008x504 with 1 Axes>"
      ]
     },
     "metadata": {
      "needs_background": "light"
     },
     "output_type": "display_data"
    }
   ],
   "source": [
    "plt.rcParams[\"figure.figsize\"] = (14, 7)\n",
    "xgboost.plot_importance(model_xgboost) # график важности признаков"
   ]
  },
  {
   "cell_type": "markdown",
   "metadata": {},
   "source": [
    "RandomForest"
   ]
  },
  {
   "cell_type": "markdown",
   "metadata": {},
   "source": [
    "Random forest (с англ. — «случайный лес») — алгоритм машинного обучения, предложенный Лео Брейманом[1][2] и Адель Катлер, заключающийся в использовании комитета (ансамбля) решающих деревьев. Алгоритм сочетает в себе две основные идеи: метод бэггинга Бреймана, и метод случайных подпространств, предложенный Tin Kam Ho. Алгоритм применяется для задач классификации, регрессии и кластеризации. Основная идея заключается в использовании большого ансамбля решающих деревьев, каждое из которых само по себе даёт очень невысокое качество классификации, но за счёт их большого количества результат получается хорошим."
   ]
  },
  {
   "cell_type": "code",
   "execution_count": 82,
   "metadata": {},
   "outputs": [
    {
     "name": "stderr",
     "output_type": "stream",
     "text": [
      "C:\\Users\\asus\\Anaconda3\\lib\\site-packages\\sklearn\\ensemble\\forest.py:245: FutureWarning: The default value of n_estimators will change from 10 in version 0.20 to 100 in 0.22.\n",
      "  \"10 in version 0.20 to 100 in 0.22.\", FutureWarning)\n"
     ]
    },
    {
     "name": "stdout",
     "output_type": "stream",
     "text": [
      "Wall time: 239 ms\n"
     ]
    },
    {
     "data": {
      "text/plain": [
       "RandomForestRegressor(bootstrap=True, criterion='mse', max_depth=None,\n",
       "                      max_features='auto', max_leaf_nodes=None,\n",
       "                      min_impurity_decrease=0.0, min_impurity_split=None,\n",
       "                      min_samples_leaf=1, min_samples_split=2,\n",
       "                      min_weight_fraction_leaf=0.0, n_estimators=10,\n",
       "                      n_jobs=None, oob_score=False, random_state=None,\n",
       "                      verbose=0, warm_start=False)"
      ]
     },
     "execution_count": 82,
     "metadata": {},
     "output_type": "execute_result"
    }
   ],
   "source": [
    "%%time\n",
    "model_rf = RandomForestRegressor()\n",
    "model_rf.fit(X_train, y_train)"
   ]
  },
  {
   "cell_type": "code",
   "execution_count": 83,
   "metadata": {},
   "outputs": [
    {
     "name": "stdout",
     "output_type": "stream",
     "text": [
      "0.7158627396357701\n"
     ]
    }
   ],
   "source": [
    "pred_rf = model_rf.predict(X_test)\n",
    "rf_rmse = np.sqrt(mean_squared_error(y_test, pred_rf))\n",
    "model_error['RandomForest'] = rf_rmse\n",
    "print(rf_rmse)"
   ]
  },
  {
   "cell_type": "markdown",
   "metadata": {},
   "source": [
    "LightGBM"
   ]
  },
  {
   "cell_type": "markdown",
   "metadata": {},
   "source": [
    "LightGBM - это платформа для повышения градиента, использующая алгоритмы обучения на основе дерева. Он предназначен для распространения и эффективности со следующими преимуществами:\n",
    "\n",
    "Более быстрая скорость обучения и высокая эффективность.\n",
    "Более низкое использование памяти.\n",
    "Лучшая точность.\n",
    "Поддержка параллельного и GPU обучения.\n",
    "Способен обрабатывать крупномасштабные данные."
   ]
  },
  {
   "cell_type": "code",
   "execution_count": 84,
   "metadata": {},
   "outputs": [],
   "source": [
    "import lightgbm as lgb\n",
    "from lightgbm import LGBMRegressor"
   ]
  },
  {
   "cell_type": "code",
   "execution_count": 85,
   "metadata": {},
   "outputs": [
    {
     "data": {
      "text/plain": [
       "LGBMRegressor(boosting_type='gbdt', class_weight=None, colsample_bytree=1.0,\n",
       "              importance_type='split', learning_rate=0.1, max_depth=-1,\n",
       "              min_child_samples=20, min_child_weight=0.001, min_split_gain=0.0,\n",
       "              n_estimators=100, n_jobs=-1, num_leaves=31, objective=None,\n",
       "              random_state=None, reg_alpha=0.0, reg_lambda=0.0, silent=True,\n",
       "              subsample=1.0, subsample_for_bin=200000, subsample_freq=0)"
      ]
     },
     "execution_count": 85,
     "metadata": {},
     "output_type": "execute_result"
    }
   ],
   "source": [
    "model_lgbm = LGBMRegressor()\n",
    "model_lgbm.fit(X_train, y_train)"
   ]
  },
  {
   "cell_type": "code",
   "execution_count": 86,
   "metadata": {},
   "outputs": [
    {
     "name": "stdout",
     "output_type": "stream",
     "text": [
      "0.6781017559458145\n"
     ]
    }
   ],
   "source": [
    "pred_lgbm = model_lgbm.predict(X_test)\n",
    "lgbm_rmse = np.sqrt(mean_squared_error(y_test, pred_lgbm))\n",
    "model_error['LightGBM'] = lgbm_rmse\n",
    "print(lgbm_rmse)"
   ]
  },
  {
   "cell_type": "markdown",
   "metadata": {},
   "source": [
    "Ridge"
   ]
  },
  {
   "cell_type": "markdown",
   "metadata": {},
   "source": [
    "Гребневая регрессия или ридж-регрессия (англ. ridge regression) — один из методов понижения размерности. Применяется для борьбы с избыточностью данных, когда независимые переменные коррелируют друг с другом, вследствие чего проявляется неустойчивость оценок коэффициентов многомерной линейной регрессии."
   ]
  },
  {
   "cell_type": "code",
   "execution_count": 90,
   "metadata": {},
   "outputs": [],
   "source": [
    "from sklearn.linear_model import Ridge\n",
    "from sklearn.linear_model import Lasso"
   ]
  },
  {
   "cell_type": "code",
   "execution_count": 93,
   "metadata": {},
   "outputs": [
    {
     "name": "stdout",
     "output_type": "stream",
     "text": [
      "Wall time: 2 ms\n"
     ]
    },
    {
     "data": {
      "text/plain": [
       "Ridge(alpha=1.0, copy_X=True, fit_intercept=True, max_iter=None,\n",
       "      normalize=False, random_state=None, solver='auto', tol=0.001)"
      ]
     },
     "execution_count": 93,
     "metadata": {},
     "output_type": "execute_result"
    }
   ],
   "source": [
    "%%time\n",
    "model_ridge = Ridge()\n",
    "model_ridge.fit(X_train, y_train)"
   ]
  },
  {
   "cell_type": "code",
   "execution_count": 96,
   "metadata": {},
   "outputs": [
    {
     "name": "stdout",
     "output_type": "stream",
     "text": [
      "0.6782236095544277\n"
     ]
    }
   ],
   "source": [
    "pred_ridge = model_ridge.predict(X_test)\n",
    "ridge_rmse = np.sqrt(mean_squared_error(y_test, pred_ridge))\n",
    "model_error['Ridge'] = ridge_rmse\n",
    "print(ridge_rmse)"
   ]
  },
  {
   "cell_type": "markdown",
   "metadata": {},
   "source": [
    "Lasso"
   ]
  },
  {
   "cell_type": "markdown",
   "metadata": {},
   "source": [
    "Lasso (Least absolute shrinkage and selection operator)  - метод оценивания коэффициентов линейной регрессионной модели. \n",
    "\n",
    "Метод заключается во введении ограничения на норму вектора коэффициентов модели, что приводит к обращению в 0 некоторых коэффициентов модели. Метод приводит к повышению устойчивости модели в случае большого числа обусловленности матрицы признаков X, позволяет получить интерпретируемые модели  - отбираются признаки, оказывающие наибольшее влияние на вектор ответов."
   ]
  },
  {
   "cell_type": "code",
   "execution_count": 97,
   "metadata": {},
   "outputs": [
    {
     "name": "stdout",
     "output_type": "stream",
     "text": [
      "Wall time: 18 ms\n"
     ]
    },
    {
     "data": {
      "text/plain": [
       "Lasso(alpha=1.0, copy_X=True, fit_intercept=True, max_iter=1000,\n",
       "      normalize=False, positive=False, precompute=False, random_state=None,\n",
       "      selection='cyclic', tol=0.0001, warm_start=False)"
      ]
     },
     "execution_count": 97,
     "metadata": {},
     "output_type": "execute_result"
    }
   ],
   "source": [
    "%%time\n",
    "model_lasso = Lasso()\n",
    "model_lasso.fit(X_train, y_train)"
   ]
  },
  {
   "cell_type": "code",
   "execution_count": 100,
   "metadata": {},
   "outputs": [
    {
     "name": "stdout",
     "output_type": "stream",
     "text": [
      "1.0878988817640458\n"
     ]
    }
   ],
   "source": [
    "pred_lasso = model_lasso.predict(X_test)\n",
    "lasso_rmse = np.sqrt(mean_squared_error(y_test, pred_lasso))\n",
    "model_error['Lasso'] = lasso_rmse\n",
    "print(lasso_rmse)"
   ]
  },
  {
   "cell_type": "code",
   "execution_count": 101,
   "metadata": {},
   "outputs": [
    {
     "name": "stdout",
     "output_type": "stream",
     "text": [
      "RMSE ошибка модели SGDRegressor - 0.6790437198956571\n",
      "RMSE ошибка модели LinearRegression - 0.6781919846546783\n",
      "RMSE ошибка модели XGBoost - 0.7577253367023868\n",
      "RMSE ошибка модели RandomForest - 0.7158627396357701\n",
      "RMSE ошибка модели LightGBM - 0.6781017559458145\n",
      "RMSE ошибка модели Ridge - 0.6782236095544277\n",
      "RMSE ошибка модели Lasso - 1.0878988817640458\n",
      "Среднее качество моделей - 0.7535782897361114\n"
     ]
    }
   ],
   "source": [
    "full_rmse = 0\n",
    "for key, value in model_error.items():\n",
    "  full_rmse += value\n",
    "  print(\"RMSE ошибка модели {} - {}\".format(key, str(value)))\n",
    "print(\"Среднее качество моделей - {}\".format(str(full_rmse / len(model_error))))"
   ]
  },
  {
   "cell_type": "code",
   "execution_count": null,
   "metadata": {},
   "outputs": [],
   "source": []
  }
 ],
 "metadata": {
  "kernelspec": {
   "display_name": "Python 3",
   "language": "python",
   "name": "python3"
  },
  "language_info": {
   "codemirror_mode": {
    "name": "ipython",
    "version": 3
   },
   "file_extension": ".py",
   "mimetype": "text/x-python",
   "name": "python",
   "nbconvert_exporter": "python",
   "pygments_lexer": "ipython3",
   "version": "3.7.3"
  }
 },
 "nbformat": 4,
 "nbformat_minor": 1
}
